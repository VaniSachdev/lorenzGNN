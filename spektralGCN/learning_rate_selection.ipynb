{
 "cells": [
  {
   "attachments": {},
   "cell_type": "markdown",
   "metadata": {},
   "source": [
    "In this notebook, we test the GCN with different loss metrics to see which yields the most desirable performance."
   ]
  },
  {
   "attachments": {},
   "cell_type": "markdown",
   "metadata": {},
   "source": [
    "### imports and setup"
   ]
  },
  {
   "cell_type": "code",
   "execution_count": 1,
   "metadata": {},
   "outputs": [],
   "source": [
    "# # google colab setup (comment out this cell if running locally)\n",
    "# from google.colab import drive\n",
    "# drive.mount('/content/drive', force_remount=True)\n",
    "# %cd \"/content/drive/My Drive/_research ML AQ/lorenz 96 gnn\" # so we can access pre-generated lorenz data\n",
    "# !pip3 install spektral"
   ]
  },
  {
   "cell_type": "code",
   "execution_count": 2,
   "metadata": {},
   "outputs": [],
   "source": [
    "# ipython extension to autoreload imported modules so that any changes will be up to date before running code in this nb\n",
    "%load_ext autoreload \n",
    "%autoreload 2"
   ]
  },
  {
   "cell_type": "code",
   "execution_count": 3,
   "metadata": {},
   "outputs": [
    {
     "name": "stderr",
     "output_type": "stream",
     "text": [
      "2023-02-07 09:59:21.109267: I tensorflow/core/platform/cpu_feature_guard.cc:193] This TensorFlow binary is optimized with oneAPI Deep Neural Network Library (oneDNN) to use the following CPU instructions in performance-critical operations:  AVX2 AVX512F AVX512_VNNI FMA\n",
      "To enable them in other operations, rebuild TensorFlow with the appropriate compiler flags.\n"
     ]
    }
   ],
   "source": [
    "# import packages\n",
    "import numpy as np\n",
    "import tensorflow as tf\n",
    "import matplotlib.pyplot as plt\n",
    "from spektral.data import MixedLoader\n",
    "from datetime import datetime\n",
    "\n",
    "from lorenz import lorenzDataset, DEFAULT_TIME_RESOLUTION\n",
    "from plotters import plot_data\n",
    "from tuning import make_train_GCN, plot_model_results, tune_params\n",
    "from models import NaiveConstant, NaiveZero"
   ]
  },
  {
   "cell_type": "code",
   "execution_count": 4,
   "metadata": {},
   "outputs": [
    {
     "name": "stdout",
     "output_type": "stream",
     "text": [
      "no GPU device found\n",
      "num GPUs available: 0\n"
     ]
    },
    {
     "name": "stderr",
     "output_type": "stream",
     "text": [
      "2023-02-07 09:59:28.249333: I tensorflow/core/platform/cpu_feature_guard.cc:193] This TensorFlow binary is optimized with oneAPI Deep Neural Network Library (oneDNN) to use the following CPU instructions in performance-critical operations:  AVX2 AVX512F AVX512_VNNI FMA\n",
      "To enable them in other operations, rebuild TensorFlow with the appropriate compiler flags.\n"
     ]
    }
   ],
   "source": [
    "# check that GPU is set up\n",
    "device_name = tf.test.gpu_device_name()\n",
    "if device_name != '/device:GPU:0':\n",
    "  print('no GPU device found')\n",
    "else:\n",
    "  print('found GPU at: {}'.format(device_name))\n",
    "print('num GPUs available:', len(tf.config.list_physical_devices(\"GPU\")))"
   ]
  },
  {
   "attachments": {},
   "cell_type": "markdown",
   "metadata": {},
   "source": [
    "### prepare data"
   ]
  },
  {
   "cell_type": "code",
   "execution_count": 5,
   "metadata": {},
   "outputs": [
    {
     "name": "stdout",
     "output_type": "stream",
     "text": [
      "reading Lorenz data from stored file\n"
     ]
    }
   ],
   "source": [
    "# only uncomment each line if testing a non-default parameter\n",
    "dataset = lorenzDataset(\n",
    "    n_samples=100_000,\n",
    "    # input_steps=2 * DEFAULT_TIME_RESOLUTION,  # 2 days\n",
    "    # output_delay=1 * DEFAULT_TIME_RESOLUTION,  # 1 day\n",
    "    # output_steps=1,\n",
    "    min_buffer=-3 * DEFAULT_TIME_RESOLUTION,\n",
    "    # rand_buffer=False,\n",
    "    # K=36,\n",
    "    # F=8,\n",
    "    # c=10,\n",
    "    # b=10,\n",
    "    # h=1,\n",
    "    # coupled=True,\n",
    "    # time_resolution=DEFAULT_TIME_RESOLUTION,\n",
    "    # seed=42\n",
    ")"
   ]
  },
  {
   "cell_type": "code",
   "execution_count": 6,
   "metadata": {},
   "outputs": [],
   "source": [
    "train = dataset[:int(0.7 * dataset.n_graphs)]\n",
    "val = dataset[int(0.7 * dataset.n_graphs):int(0.9 * dataset.n_graphs)]\n",
    "test = dataset[int(0.9 * dataset.n_graphs):]\n"
   ]
  },
  {
   "cell_type": "code",
   "execution_count": 7,
   "metadata": {},
   "outputs": [],
   "source": [
    "train_loader = MixedLoader(dataset=train, batch_size=32, shuffle=False)\n",
    "val_loader = MixedLoader(dataset=val, batch_size=32, shuffle=False)\n"
   ]
  },
  {
   "cell_type": "code",
   "execution_count": 8,
   "metadata": {},
   "outputs": [
    {
     "name": "stdout",
     "output_type": "stream",
     "text": [
      "time to concat: 0:00:30.386493\n",
      "time to get std&mean from X1: 0:01:36.155887\n",
      "time to get std&mean from X2: 0:00:44.706529\n",
      "time to get means: 0:02:52.017945\n",
      "time to normalize data: 0:01:14.489350\n"
     ]
    }
   ],
   "source": [
    "# TODO: store normalized train/val/test data\n",
    "\n",
    "# normalize data\n",
    "start = datetime.now()\n",
    "X1_mean, X1_std, X2_mean, X2_std = train.get_mean_std()\n",
    "finish_get_means = datetime.now()\n",
    "print('time to get means:', finish_get_means - start)\n",
    "\n",
    "train.normalize(X1_mean, X1_std, X2_mean, X2_std)\n",
    "val.normalize(X1_mean, X1_std, X2_mean, X2_std)\n",
    "test.normalize(X1_mean, X1_std, X2_mean, X2_std)\n",
    "finish_normalize = datetime.now()\n",
    "\n",
    "print('time to normalize data:', finish_normalize - finish_get_means)"
   ]
  },
  {
   "attachments": {},
   "cell_type": "markdown",
   "metadata": {},
   "source": [
    "inspect data\n",
    "(commented out because it takes too long to plot so many data points and I'm confident I know what it looks like)"
   ]
  },
  {
   "cell_type": "code",
   "execution_count": 9,
   "metadata": {},
   "outputs": [],
   "source": [
    "# fig, (ax0, ax1) = plot_data(train, val, test, node=0)\n",
    "\n",
    "# plt.tight_layout()\n",
    "# plt.show()"
   ]
  },
  {
   "attachments": {},
   "cell_type": "markdown",
   "metadata": {},
   "source": [
    "## compare learning rates"
   ]
  },
  {
   "attachments": {},
   "cell_type": "markdown",
   "metadata": {},
   "source": [
    "I wanted to implement some helper functions to streamline hyperparameter tuning from the start. However, the existing libraries I've found for tuning in tensorflow require you to define models as a subclass of hypermodels, which is kind of a pain when I'm just using a GCN out of the box. For now I'm just gonna do the stupid way of running for-loops, maybe with dictionaries of parameters to make things a little nicer. (the helper function is in tuning.py.)"
   ]
  },
  {
   "cell_type": "code",
   "execution_count": 10,
   "metadata": {},
   "outputs": [],
   "source": [
    "# TODO: fix this error, somewhere we are passing in a dictionary as a string where it is invalid\n",
    "\n",
    "# param_dict = {'learning_rate': [1e-2, 1e-3, 1e-4, 1e-5]}\n",
    "\n",
    "# results = tune_params(train,\n",
    "#                 val,\n",
    "#                 param_dict=param_dict,\n",
    "#                 epochs=40,\n",
    "#                 verbose=0,\n",
    "#                 early_stopping=False,\n",
    "#                 eval_val=True)"
   ]
  },
  {
   "attachments": {},
   "cell_type": "markdown",
   "metadata": {},
   "source": [
    "blegh deal with that error later and do some stupid simple stuff for now"
   ]
  },
  {
   "cell_type": "code",
   "execution_count": 11,
   "metadata": {},
   "outputs": [
    {
     "name": "stdout",
     "output_type": "stream",
     "text": [
      "running with learning rate 0.01\n",
      "running with learning rate 0.001\n",
      "running with learning rate 0.0001\n",
      "running with learning rate 1e-05\n"
     ]
    }
   ],
   "source": [
    "LRs = [1e-2, 1e-3, 1e-4, 1e-5]\n",
    "\n",
    "models = []\n",
    "histories = []\n",
    "\n",
    "for lr in LRs:\n",
    "    print('running with learning rate', lr)\n",
    "    model, history, fname = make_train_GCN(train, val, loss='mean_squared_error', activation=\"relu\", epochs=20, eval_val=True, early_stopping=False, verbose=0)\n",
    "\n",
    "    models.append(model)\n",
    "    histories.append(history)"
   ]
  },
  {
   "cell_type": "code",
   "execution_count": 12,
   "metadata": {},
   "outputs": [
    {
     "data": {
      "image/png": "[encoded data removed]",
      "text/plain": [
       "<Figure size 400x300 with 1 Axes>"
      ]
     },
     "metadata": {},
     "output_type": "display_data"
    }
   ],
   "source": [
    "fig_train_loss, ax = plt.subplots(1, 1, figsize=(4, 3))\n",
    "\n",
    "for i, lr in enumerate(LRs):\n",
    "    model = models[i]\n",
    "    history = histories[i]\n",
    "\n",
    "    ax.plot(history.history['loss'], label='loss, ' + str(lr))\n",
    "    if 'val_loss' in history.history:\n",
    "        ax.plot(history.history['val_loss'], '--', label='val loss,' + str(lr))\n",
    "ax.set_ylabel('mean squared error')\n",
    "ax.set_xlabel('epochs')\n",
    "fig_train_loss.suptitle('model MSE over training epochs')\n",
    "ax.set_ylim((0, 15))\n",
    "ax.legend()\n",
    "plt.show()"
   ]
  },
  {
   "cell_type": "code",
   "execution_count": null,
   "metadata": {},
   "outputs": [],
   "source": []
  }
 ],
 "metadata": {
  "kernelspec": {
   "display_name": "venv",
   "language": "python",
   "name": "python3"
  },
  "language_info": {
   "codemirror_mode": {
    "name": "ipython",
    "version": 3
   },
   "file_extension": ".py",
   "mimetype": "text/x-python",
   "name": "python",
   "nbconvert_exporter": "python",
   "pygments_lexer": "ipython3",
   "version": "3.9.16"
  },
  "orig_nbformat": 4,
  "vscode": {
   "interpreter": {
    "hash": "91babaf3c1d56d103efe045a1206cf7a774c89fdf942e1060ceffb69eaea3c50"
   }
  }
 },
 "nbformat": 4,
 "nbformat_minor": 2
}
