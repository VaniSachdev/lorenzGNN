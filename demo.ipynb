{
 "cells": [
  {
   "cell_type": "markdown",
   "metadata": {},
   "source": [
    "This onboarding notebook will demonstrate how to use this codebase. The different sections correspond to different parts of the overall pipeline and also roughly correspond to the different files in `utils`.\n",
    "\n",
    "Before running this notebook, ensure that your virtual environment is set up and that you have installed the necessary libraries. "
   ]
  },
  {
   "cell_type": "markdown",
   "metadata": {},
   "source": [
    "### imports and setup"
   ]
  },
  {
   "cell_type": "markdown",
   "metadata": {},
   "source": [
    "First, we want to set up the ipython autoreload extension, which autoreloads imported modules every time we run a cell in this notebook, so that any changes elsewhere in the codebase will be up to date when code in this notebook is executed."
   ]
  },
  {
   "cell_type": "code",
   "execution_count": 111,
   "metadata": {},
   "outputs": [
    {
     "name": "stdout",
     "output_type": "stream",
     "text": [
      "The autoreload extension is already loaded. To reload it, use:\n",
      "  %reload_ext autoreload\n"
     ]
    }
   ],
   "source": [
    "# ipython extension to autoreload imported modules so that any changes will be up to date before running code in this nb\n",
    "%load_ext autoreload \n",
    "%autoreload 2"
   ]
  },
  {
   "cell_type": "code",
   "execution_count": 112,
   "metadata": {},
   "outputs": [],
   "source": [
    "from utils.jraph_data import get_lorenz_graph_tuples, print_graph_fts\n",
    "from utils.lorenz import load_lorenz96_2coupled\n",
    "\n",
    "import numpy as np\n",
    "import jax.numpy as jnp\n"
   ]
  },
  {
   "cell_type": "markdown",
   "metadata": {},
   "source": [
    "### CONFIGS"
   ]
  },
  {
   "cell_type": "markdown",
   "metadata": {},
   "source": [
    "TODO move this to top and reference it instead of magic numbers"
   ]
  },
  {
   "cell_type": "markdown",
   "metadata": {},
   "source": [
    "Configs are useful for keeping track of the parameters you are using for a particular run. Also, some of the parameters need to be reused between the data generation and the model/training setup, so it's convenient to be able to just reference a config file that contains everything in one place. Here is what an example config looks like and how to call attributes: "
   ]
  },
  {
   "cell_type": "code",
   "execution_count": 143,
   "metadata": {},
   "outputs": [],
   "source": [
    "import ml_collections\n",
    "\n",
    "config = ml_collections.ConfigDict()\n",
    "\n",
    "# Data params. \n",
    "config.n_samples=20\n",
    "config.input_steps=3\n",
    "config.output_delay=0\n",
    "config.output_steps=2\n",
    "config.timestep_duration=1\n",
    "config.sample_buffer=1\n",
    "config.time_resolution=100\n",
    "config.init_buffer_samples=0\n",
    "config.train_pct=0.7\n",
    "config.val_pct=0.2\n",
    "config.test_pct=0.1\n",
    "config.K=36\n",
    "config.F=8\n",
    "config.c=10\n",
    "config.b=10\n",
    "config.h=1\n",
    "config.seed=42\n",
    "config.normalize=True\n",
    "config.fully_connected_edges=True\n",
    "\n",
    "# Optimizer.\n",
    "config.optimizer = 'adam'\n",
    "config.learning_rate = 1e-3\n",
    "\n",
    "# Training hyperparameters.\n",
    "# config.batch_size = 3\n",
    "config.epochs = 2\n",
    "config.log_every_epochs = 1\n",
    "config.eval_every_epochs = 1\n",
    "config.checkpoint_every_epochs = 1\n",
    "config.max_checkpts_to_keep = None # None means keep all checkpoints\n",
    "\n",
    "# GNN hyperparameters.\n",
    "config.model = 'MLPGraphNetwork'\n",
    "config.n_blocks = 1\n",
    "config.activation = 'relu'\n",
    "config.dropout_rate = 0.1\n",
    "config.skip_connections = False # This was throwing a broadcast error in add_graphs_tuples_nodes when this was set to True\n",
    "config.layer_norm = False # TODO perhaps we want to turn on later\n",
    "config.edge_features = (4, 8) # the last feature size will be the number of features that the graph predicts\n",
    "config.node_features = (32, 2)\n",
    "config.global_features = None\n",
    "config.share_params = False"
   ]
  },
  {
   "cell_type": "markdown",
   "metadata": {},
   "source": [
    "Then you can simply reference the config's attributes by calling, e.g. \n",
    "`some_param_you_want_to_set = config.param_name`"
   ]
  },
  {
   "cell_type": "markdown",
   "metadata": {},
   "source": [
    "### DATA"
   ]
  },
  {
   "cell_type": "markdown",
   "metadata": {},
   "source": [
    "In this section we go over how to run the Lorenz simulation, and how to generate the graph data objects. "
   ]
  },
  {
   "cell_type": "markdown",
   "metadata": {},
   "source": [
    "#### Lorenz simulation"
   ]
  },
  {
   "cell_type": "code",
   "execution_count": 115,
   "metadata": {},
   "outputs": [],
   "source": [
    "from utils.lorenz import run_download_lorenz96_2coupled, load_lorenz96_2coupled"
   ]
  },
  {
   "cell_type": "markdown",
   "metadata": {},
   "source": [
    "Normally, we want to save the Lorenz simulations that we run so that we don't have to repeat the ODE integration if we want to reuse the data. \n",
    "\n",
    "The following code runs ODE integration over the coupled 2-layer Lorenz96 model and saves the data to an .npz file. "
   ]
  },
  {
   "cell_type": "code",
   "execution_count": 116,
   "metadata": {},
   "outputs": [],
   "source": [
    "run_download_lorenz96_2coupled(\n",
    "        fname=\"data/demo\", \n",
    "        K=config.K,\n",
    "        F=config.F,\n",
    "        c=config.c,\n",
    "        b=config.b,\n",
    "        h=config.h,\n",
    "        n_steps=100,\n",
    "        resolution=config.time_resolution,\n",
    "        seed=config.seed)"
   ]
  },
  {
   "cell_type": "markdown",
   "metadata": {},
   "source": [
    "Check that the data folder contains a new .npz file, and that the data_directory.json file now contains a new entry for this simulation run. "
   ]
  },
  {
   "cell_type": "markdown",
   "metadata": {},
   "source": [
    "Next, we can load the data: "
   ]
  },
  {
   "cell_type": "code",
   "execution_count": 117,
   "metadata": {},
   "outputs": [
    {
     "name": "stdout",
     "output_type": "stream",
     "text": [
      "(100, 72)\n"
     ]
    },
    {
     "data": {
      "text/plain": [
       "array([[ 8.        ,  8.        ,  8.        , ...,  1.        ,\n",
       "         1.        ,  1.        ],\n",
       "       [ 7.9902934 ,  7.99291748,  7.990142  , ...,  0.9810261 ,\n",
       "         0.98093732,  0.98058919],\n",
       "       [ 7.98172884,  7.99153972,  7.98050267, ...,  0.9642227 ,\n",
       "         0.96387367,  0.96249242],\n",
       "       ...,\n",
       "       [ 4.07543482, -6.49598583, -4.0179002 , ..., -0.12132339,\n",
       "         0.05132519,  0.4683407 ],\n",
       "       [ 3.20270803, -6.75732122, -3.52443301, ..., -0.1154428 ,\n",
       "         0.13212121,  0.34186311],\n",
       "       [ 2.31485714, -6.90357552, -3.07708665, ..., -0.11520219,\n",
       "         0.20385555,  0.2402943 ]])"
      ]
     },
     "execution_count": 117,
     "metadata": {},
     "output_type": "execute_result"
    }
   ],
   "source": [
    "t, X = load_lorenz96_2coupled(fname=\"data/demo.npz\")\n",
    "print(X.shape)\n",
    "X"
   ]
  },
  {
   "cell_type": "markdown",
   "metadata": {},
   "source": [
    "You can play around with different ways to visualize this. (There are some existing functions in utils.visualization but they're kinda a mess right now.)"
   ]
  },
  {
   "cell_type": "markdown",
   "metadata": {},
   "source": [
    "#### GraphsTuples"
   ]
  },
  {
   "cell_type": "markdown",
   "metadata": {},
   "source": [
    "In the pipeline to generate data and train the model, you won't actually need to call the Lorenz simulation directly, since it's wrapped in the calls to get the graph data. \n",
    "\n",
    "We are using the `GraphsTuple` object defined in the `jraph` library. "
   ]
  },
  {
   "cell_type": "markdown",
   "metadata": {},
   "source": [
    "Note here the difference between samples, timesteps, and (simulation) steps. "
   ]
  },
  {
   "cell_type": "markdown",
   "metadata": {},
   "source": [
    "TODO insert a visualization of what these are "
   ]
  },
  {
   "cell_type": "code",
   "execution_count": 118,
   "metadata": {},
   "outputs": [],
   "source": [
    "from utils.jraph_data import get_lorenz_graph_tuples, print_graph_fts"
   ]
  },
  {
   "cell_type": "code",
   "execution_count": 119,
   "metadata": {},
   "outputs": [],
   "source": [
    "# generate desired dataset with train/val split and subsampled windows\n",
    "graph_tuple_dict = get_lorenz_graph_tuples(\n",
    "    n_samples=config.n_samples,\n",
    "    input_steps=config.input_steps,\n",
    "    output_delay=config.output_delay,\n",
    "    output_steps=config.output_steps,\n",
    "    timestep_duration=config.timestep_duration,\n",
    "    sample_buffer=config.sample_buffer,\n",
    "    time_resolution=config.time_resolution,\n",
    "    init_buffer_samples=config.init_buffer_samples,\n",
    "    train_pct=config.train_pct,\n",
    "    val_pct=config.val_pct,\n",
    "    test_pct=config.test_pct,\n",
    "    K=config.K,\n",
    "    F=config.F,\n",
    "    c=config.c,\n",
    "    b=config.b,\n",
    "    h=config.h,\n",
    "    seed=config.seed,\n",
    "    normalize=config.normalize,\n",
    "    fully_connected_edges=config.fully_connected_edges)"
   ]
  },
  {
   "cell_type": "markdown",
   "metadata": {},
   "source": [
    "Note the additional parameters for `normalization` and `fully_connected_edges`. If `fully_connected_edges` is False, each node will only be connected to its two nearest neighbors and itself (5 total edges per node). There are some theoretical and practical considerations about which to choose (atm I am not sure what is best – it seems like theoretically fully-connected could be better, but that performed way worse in hyperparameter tuning. Also, Keisler's Graph Weather paper only had edges between adjacent nodes (on a sphere), so it seems like in theory we may not actually need fully-connected?)\n",
    "\n",
    "Also, (not doing it here, but) it can be helpful to compare the normalized with non-normalized data to check that the pre-processing step is correct. "
   ]
  },
  {
   "cell_type": "markdown",
   "metadata": {},
   "source": [
    "example of how to index the graph_tuple_dict object: "
   ]
  },
  {
   "cell_type": "code",
   "execution_count": 120,
   "metadata": {},
   "outputs": [
    {
     "name": "stdout",
     "output_type": "stream",
     "text": [
      "graph_tuple_dict type: <class 'dict'>\n",
      "graph_tuple_dict keys: dict_keys(['train', 'val', 'test'])\n",
      "graph_tuple_dict value type: <class 'dict'>\n",
      "train dataset keys: dict_keys(['inputs', 'targets'])\n",
      "train dataset value type: <class 'list'>\n",
      "size of train inputs: 14\n",
      "size of train targets: 14\n",
      "size of val inputs: 4\n",
      "size of val targets: 4\n",
      "size of test inputs: 2\n",
      "size of test targets: 2\n",
      "train inputs window type: <class 'list'>\n",
      "train input window size (i.e. input steps per window): 3\n",
      "element type in window: <class 'jraph._src.graph.GraphsTuple'>\n"
     ]
    }
   ],
   "source": [
    "train_dataset = graph_tuple_dict['train']\n",
    "val_dataset = graph_tuple_dict['val']\n",
    "test_dataset = graph_tuple_dict['test']\n",
    "\n",
    "train_inputs = train_dataset['inputs']\n",
    "train_targets = train_dataset['targets']\n",
    "val_inputs = val_dataset['inputs']\n",
    "val_targets = val_dataset['targets']\n",
    "test_inputs = test_dataset['inputs']\n",
    "test_targets = test_dataset['targets']\n",
    "\n",
    "sample_input_window = train_inputs[0]\n",
    "sample_target_window = train_targets[0]\n",
    "sample_graph = sample_input_window[0]\n",
    "\n",
    "print(\"graph_tuple_dict type:\", type(graph_tuple_dict))\n",
    "print(\"graph_tuple_dict keys:\", graph_tuple_dict.keys())\n",
    "print(\"graph_tuple_dict value type:\", type(train_dataset))\n",
    "print(\"train dataset keys:\", train_dataset.keys())\n",
    "print(\"train dataset value type:\", type(train_inputs))\n",
    "\n",
    "print(\"size of train inputs:\", len(train_inputs))\n",
    "print(\"size of train targets:\", len(train_targets))\n",
    "print(\"size of val inputs:\", len(val_inputs))\n",
    "print(\"size of val targets:\", len(val_targets))\n",
    "print(\"size of test inputs:\", len(test_inputs))\n",
    "print(\"size of test targets:\", len(test_targets))\n",
    "\n",
    "print(\"train inputs window type:\", type(sample_input_window))\n",
    "print(\"train input window size (i.e. input steps per window):\", len(sample_input_window))\n",
    "print(\"element type in window:\", type(sample_graph))"
   ]
  },
  {
   "cell_type": "markdown",
   "metadata": {},
   "source": [
    "This is an example of what a single GraphsTuple object looks like (representing the state of the system at a single instant in time). (It's terrible to scroll through, would recommend collapsing). Below are better ways to index through the object."
   ]
  },
  {
   "cell_type": "code",
   "execution_count": 121,
   "metadata": {},
   "outputs": [
    {
     "name": "stdout",
     "output_type": "stream",
     "text": [
      "GraphsTuple(nodes=array([[0.25872678, 1.3448845 ],\n",
      "       [0.25872678, 1.3448845 ],\n",
      "       [0.25872678, 1.3448845 ],\n",
      "       [0.25872678, 1.3448845 ],\n",
      "       [0.25872678, 1.3448845 ],\n",
      "       [0.25872678, 1.3448845 ],\n",
      "       [0.25872678, 1.3448845 ],\n",
      "       [0.25872678, 1.3448845 ],\n",
      "       [0.25872678, 1.3448845 ],\n",
      "       [0.25872678, 1.3448845 ],\n",
      "       [0.25872678, 1.3448845 ],\n",
      "       [0.25872678, 1.3448845 ],\n",
      "       [0.25872678, 1.3448845 ],\n",
      "       [0.25872678, 1.3448845 ],\n",
      "       [0.25872678, 1.3448845 ],\n",
      "       [0.25872678, 1.3448845 ],\n",
      "       [0.25882027, 1.3448845 ],\n",
      "       [0.25872678, 1.3448845 ],\n",
      "       [0.25872678, 1.3448845 ],\n",
      "       [0.25872678, 1.3448845 ],\n",
      "       [0.25872678, 1.3448845 ],\n",
      "       [0.25872678, 1.3448845 ],\n",
      "       [0.25872678, 1.3448845 ],\n",
      "       [0.25872678, 1.3448845 ],\n",
      "       [0.25872678, 1.3448845 ],\n",
      "       [0.25872678, 1.3448845 ],\n",
      "       [0.25872678, 1.3448845 ],\n",
      "       [0.25872678, 1.3448845 ],\n",
      "       [0.25872678, 1.3448845 ],\n",
      "       [0.25872678, 1.3448845 ],\n",
      "       [0.25872678, 1.3448845 ],\n",
      "       [0.25872678, 1.3448845 ],\n",
      "       [0.25872678, 1.3448845 ],\n",
      "       [0.25872678, 1.3448845 ],\n",
      "       [0.25872678, 1.3448845 ],\n",
      "       [0.25872678, 1.3448845 ]], dtype=float32), edges=Array([[ 0.],\n",
      "       [-1.],\n",
      "       [-2.],\n",
      "       ...,\n",
      "       [ 2.],\n",
      "       [ 1.],\n",
      "       [ 0.]], dtype=float32), receivers=Array([ 0,  1,  2, ..., 33, 34, 35], dtype=int32), senders=Array([ 0,  0,  0, ..., 35, 35, 35], dtype=int32), globals=Array([[1.]], dtype=float32), n_node=Array([36], dtype=int32), n_edge=Array([1296], dtype=int32))\n"
     ]
    }
   ],
   "source": [
    "print(sample_graph)"
   ]
  },
  {
   "cell_type": "code",
   "execution_count": 122,
   "metadata": {},
   "outputs": [
    {
     "name": "stdout",
     "output_type": "stream",
     "text": [
      "Number of nodes: 36\n",
      "Number of edges: 1296\n",
      "Node features shape: (36, 2)\n",
      "Edge features shape: (1296, 1)\n",
      "Global features shape: (1, 1)\n"
     ]
    }
   ],
   "source": [
    "# helper function \n",
    "print_graph_fts(sample_graph)"
   ]
  },
  {
   "cell_type": "code",
   "execution_count": 123,
   "metadata": {},
   "outputs": [
    {
     "name": "stdout",
     "output_type": "stream",
     "text": [
      "(36, 2)\n"
     ]
    },
    {
     "data": {
      "text/plain": [
       "array([[0.25872678, 1.3448845 ],\n",
       "       [0.25872678, 1.3448845 ],\n",
       "       [0.25872678, 1.3448845 ],\n",
       "       [0.25872678, 1.3448845 ],\n",
       "       [0.25872678, 1.3448845 ],\n",
       "       [0.25872678, 1.3448845 ],\n",
       "       [0.25872678, 1.3448845 ],\n",
       "       [0.25872678, 1.3448845 ],\n",
       "       [0.25872678, 1.3448845 ],\n",
       "       [0.25872678, 1.3448845 ],\n",
       "       [0.25872678, 1.3448845 ],\n",
       "       [0.25872678, 1.3448845 ],\n",
       "       [0.25872678, 1.3448845 ],\n",
       "       [0.25872678, 1.3448845 ],\n",
       "       [0.25872678, 1.3448845 ],\n",
       "       [0.25872678, 1.3448845 ],\n",
       "       [0.25882027, 1.3448845 ],\n",
       "       [0.25872678, 1.3448845 ],\n",
       "       [0.25872678, 1.3448845 ],\n",
       "       [0.25872678, 1.3448845 ],\n",
       "       [0.25872678, 1.3448845 ],\n",
       "       [0.25872678, 1.3448845 ],\n",
       "       [0.25872678, 1.3448845 ],\n",
       "       [0.25872678, 1.3448845 ],\n",
       "       [0.25872678, 1.3448845 ],\n",
       "       [0.25872678, 1.3448845 ],\n",
       "       [0.25872678, 1.3448845 ],\n",
       "       [0.25872678, 1.3448845 ],\n",
       "       [0.25872678, 1.3448845 ],\n",
       "       [0.25872678, 1.3448845 ],\n",
       "       [0.25872678, 1.3448845 ],\n",
       "       [0.25872678, 1.3448845 ],\n",
       "       [0.25872678, 1.3448845 ],\n",
       "       [0.25872678, 1.3448845 ],\n",
       "       [0.25872678, 1.3448845 ],\n",
       "       [0.25872678, 1.3448845 ]], dtype=float32)"
      ]
     },
     "execution_count": 123,
     "metadata": {},
     "output_type": "execute_result"
    }
   ],
   "source": [
    "# node features (i.e. 36 nodes x 2 layers)\n",
    "print(graph_tuple_dict['train']['inputs'][0][0].nodes.shape)\n",
    "graph_tuple_dict['train']['inputs'][0][0].nodes "
   ]
  },
  {
   "cell_type": "code",
   "execution_count": 124,
   "metadata": {},
   "outputs": [
    {
     "name": "stdout",
     "output_type": "stream",
     "text": [
      "(1296, 1)\n"
     ]
    },
    {
     "data": {
      "text/plain": [
       "Array([[ 0.],\n",
       "       [-1.],\n",
       "       [-2.],\n",
       "       ...,\n",
       "       [ 2.],\n",
       "       [ 1.],\n",
       "       [ 0.]], dtype=float32)"
      ]
     },
     "execution_count": 124,
     "metadata": {},
     "output_type": "execute_result"
    }
   ],
   "source": [
    "# edge features \n",
    "print(graph_tuple_dict['train']['inputs'][0][0].edges.shape)\n",
    "graph_tuple_dict['train']['inputs'][0][0].edges"
   ]
  },
  {
   "cell_type": "markdown",
   "metadata": {},
   "source": [
    "understanding edges: in a GraphsTuple, edges are encoded using three attributes: `GraphsTuple.senders`, `GraphsTuple.receivers`, and `GraphsTuple.edges`. \n",
    "\n",
    "The ith element of the `senders` attribute denotes the index of the source node; the ith element of the `receivers` attribute denotes the index of the receiving node. (The `senders` and `receivers` attributes are both 1d arrays.) The ith array of the `edges` attribute (a 2d array) are the encoded features for each node. In this case, each edge only has a single feature, which encodes the distance between the sender and receiver node. \n",
    "\n",
    "If the graph is fully connected, we expect 36\\*36 = 1296 edges. (If not, we default to 5 edges per node, so we would expect 36*5 = 180 edges.)"
   ]
  },
  {
   "cell_type": "markdown",
   "metadata": {},
   "source": [
    "Side note, gathering node-level data into a time series is kind of a pain because it requires iterating over all GraphsTuples in the desired time frame... "
   ]
  },
  {
   "cell_type": "markdown",
   "metadata": {},
   "source": [
    "Side note 2: in jraph, there is an ability to create [batches](https://jraph.readthedocs.io/en/latest/api.html#batching-padding-utilities) of GraphsTuples, which basically means combining multiple GraphsTuples into a single GraphsTuple object. This actually makes gathering time series data easier/quicker; HOWEVER, it does not play nice with jax and is not compilable :( hence why some parts of the codebase do really slow and stupid indexing. "
   ]
  },
  {
   "cell_type": "markdown",
   "metadata": {},
   "source": [
    "Side note 3: the `global_features` attribute in these graphs is just a dummy variable and is not used during training. I was trying to get rid of the variable but ran into some random bugs so I just left it as a placeholder since I didn't feel like wasting time dealing with it. "
   ]
  },
  {
   "cell_type": "markdown",
   "metadata": {},
   "source": [
    "### MODELS"
   ]
  },
  {
   "cell_type": "markdown",
   "metadata": {},
   "source": [
    "Here is an example of how to use a basic model. The process is essentially the same for any model you want to use/define, with the differences primarily being the parameters you pass in when initializing an instance of the model class. "
   ]
  },
  {
   "cell_type": "code",
   "execution_count": 125,
   "metadata": {},
   "outputs": [],
   "source": [
    "from utils.jraph_models import MLPGraphNetwork\n",
    "import flax.linen as nn"
   ]
  },
  {
   "cell_type": "code",
   "execution_count": 126,
   "metadata": {},
   "outputs": [
    {
     "data": {
      "text/plain": [
       "MLPGraphNetwork(\n",
       "    # attributes\n",
       "    n_blocks = 1\n",
       "    share_params = False\n",
       "    dropout_rate = 0.1\n",
       "    skip_connections = False\n",
       "    layer_norm = False\n",
       "    deterministic = True\n",
       "    activation = relu\n",
       "    edge_features = (4, 8)\n",
       "    node_features = (32, 2)\n",
       "    global_features = None\n",
       ")"
      ]
     },
     "execution_count": 126,
     "metadata": {},
     "output_type": "execute_result"
    }
   ],
   "source": [
    "activation_funcs = {\n",
    "    \"relu\": nn.relu,\n",
    "    \"elu\": nn.elu,\n",
    "    \"leaky_relu\": nn.leaky_relu,\n",
    "}\n",
    "activation = activation_funcs[config.activation]\n",
    "\n",
    "model = MLPGraphNetwork(            \n",
    "    n_blocks=config.n_blocks,\n",
    "    share_params=config.share_params,\n",
    "    dropout_rate=config.dropout_rate,\n",
    "    skip_connections=config.skip_connections,\n",
    "    layer_norm=config.layer_norm,\n",
    "    deterministic=True,\n",
    "    activation=activation,\n",
    "    edge_features=config.edge_features,\n",
    "    node_features=config.node_features,\n",
    "    global_features=config.global_features,\n",
    ")\n",
    "model"
   ]
  },
  {
   "cell_type": "markdown",
   "metadata": {},
   "source": [
    "These models inherent from the flax nn.Module class.\n",
    "\n",
    "As of right now, models take in *lists* of GraphsTuples (i.e. windows of data). However, it currently can only process one timestep of data at a time (it can't process windows of data since there is no recurrent cell or anything to do that) so the model just uses the first GraphsTuple in a window and drops the rest. This is important to keep in mind when trying to call the model on data. "
   ]
  },
  {
   "cell_type": "markdown",
   "metadata": {},
   "source": [
    "To actually use a model, things rapidly get more complicated. At this point we bring in the `flax` library to help us keep track of model states, params, optimizers, etc. (If you've used pytorch or tensorflow you usually don't have to deal with this because it's taken care of behind the scenes!) \n",
    "\n",
    "Before initialization, a flax/jax model is sort of just nebulous emptiness. The model doesn't even know how big it needs to be - it figures this out when you give it some sample data during initialization. \n",
    "\n",
    "For more details, see the [flax documentation](https://flax.readthedocs.io/en/latest/guides/flax_fundamentals/flax_basics.html#model-parameters-initialization)."
   ]
  },
  {
   "cell_type": "code",
   "execution_count": 127,
   "metadata": {},
   "outputs": [],
   "source": [
    "import jax\n",
    "from flax.training import train_state\n",
    "import optax # library with optimizer classes used with jax"
   ]
  },
  {
   "cell_type": "code",
   "execution_count": 128,
   "metadata": {},
   "outputs": [],
   "source": [
    "# Create and initialize the parameters.\n",
    "rng = jax.random.key(0)\n",
    "rng, init_rng = jax.random.split(rng)\n",
    "params = jax.jit(model.init)(init_rng, sample_input_window)\n",
    "\n",
    "# Create an optimizer (you can create different types of optimizers, e.g. adam, SGD, etc.)\n",
    "tx = optax.adam(learning_rate=config.learning_rate)\n",
    "\n",
    "# Create the training state.\n",
    "state = train_state.TrainState.create(\n",
    "    apply_fn=model.apply, params=params, tx=tx\n",
    ")"
   ]
  },
  {
   "cell_type": "markdown",
   "metadata": {},
   "source": [
    "A flax train_state is basically a convenient group of a bunch of things we need to call a forward pass, perform an update step for optimization, etc. These include the model `apply` function (i.e. forward pass/prediction function), the actual parameters, and the optimizer object. "
   ]
  },
  {
   "cell_type": "markdown",
   "metadata": {},
   "source": [
    "Now we can finally perform a forward pass. Note that this model is still totally untrained, so the outputs are going to be garbage. \n",
    "\n",
    "Since we need both the model apply function and the model's external params, the train_state is set up to allow us to do this more conveniently than if we used the raw jax. "
   ]
  },
  {
   "cell_type": "code",
   "execution_count": 129,
   "metadata": {},
   "outputs": [],
   "source": [
    "garbage_output = state.apply_fn(state.params, sample_input_window, rngs={}) "
   ]
  },
  {
   "cell_type": "code",
   "execution_count": 130,
   "metadata": {},
   "outputs": [
    {
     "name": "stdout",
     "output_type": "stream",
     "text": [
      "<class 'list'>\n",
      "1\n",
      "<class 'jraph._src.graph.GraphsTuple'>\n"
     ]
    }
   ],
   "source": [
    "print(type(garbage_output))\n",
    "print(len(garbage_output))\n",
    "print(type(garbage_output[0]))\n",
    "# print(garbage_output[0].nodes) # commented out because it's long"
   ]
  },
  {
   "cell_type": "markdown",
   "metadata": {},
   "source": [
    "Remember how the input to the model is a window (even though we aren't currently using the whole window)? Well, we want the output type to match the input type (in case we want to chain multiple MLPBlocks together, like we do in the MLPGraphNetwork class); however, we only output one timestep at a time, hence why we have a list containing a single GraphsTuple object. (If we want to output a whole window of data, we'll have to call the model `apply` function autoregressively.)"
   ]
  },
  {
   "cell_type": "markdown",
   "metadata": {},
   "source": [
    "### TRAINING"
   ]
  },
  {
   "cell_type": "markdown",
   "metadata": {},
   "source": [
    "A single training step consists of:\n",
    "* computing rollout and loss for a single forward pass \n",
    "* updating model params based on gradient"
   ]
  },
  {
   "cell_type": "code",
   "execution_count": 131,
   "metadata": {},
   "outputs": [],
   "source": [
    "from utils.jraph_training import create_model, train_step"
   ]
  },
  {
   "cell_type": "markdown",
   "metadata": {},
   "source": [
    "Note that for training, if we want dropout, we want to set the `deterministic` param for the model to False so that the dropout occurs randomly. (You should turn off `dropout` and `deterministic` for evaluation.)"
   ]
  },
  {
   "cell_type": "code",
   "execution_count": 132,
   "metadata": {},
   "outputs": [],
   "source": [
    "# Create and initialize the network.\n",
    "rng = jax.random.key(0)\n",
    "rng, init_rng = jax.random.split(rng)\n",
    "init_net = create_model(config, deterministic=True)\n",
    "params = jax.jit(init_net.init)(init_rng, sample_input_window)\n",
    "\n",
    "# Create the optimizer.\n",
    "tx = optax.adam(learning_rate=config.learning_rate)\n",
    "\n",
    "# Create the training state.\n",
    "net = create_model(config, deterministic=False)\n",
    "state = train_state.TrainState.create(\n",
    "    apply_fn=net.apply, params=params, tx=tx\n",
    ")\n",
    "\n",
    "rng, dropout_rng = jax.random.split(rng)"
   ]
  },
  {
   "cell_type": "code",
   "execution_count": 133,
   "metadata": {},
   "outputs": [],
   "source": [
    "state, metrics_update, pred_nodes = train_step(\n",
    "    state=state,\n",
    "    n_rollout_steps=config.output_steps,\n",
    "    input_window_graphs=sample_input_window,\n",
    "    target_window_graphs=sample_target_window,\n",
    "    rngs={'dropout': dropout_rng})"
   ]
  },
  {
   "cell_type": "code",
   "execution_count": 134,
   "metadata": {},
   "outputs": [
    {
     "data": {
      "text/plain": [
       "[Array([[ -98.67787  ,  -39.9216   ],\n",
       "        [-120.49137  ,  -50.342407 ],\n",
       "        [-104.10324  ,  -36.979095 ],\n",
       "        [ -91.72358  ,  -45.434982 ],\n",
       "        [-102.39264  ,  -23.706886 ],\n",
       "        [-105.23365  ,  -38.129944 ],\n",
       "        [-107.99459  ,  -34.880634 ],\n",
       "        [ -75.59818  ,   -2.6439273],\n",
       "        [-107.79181  ,  -55.576935 ],\n",
       "        [   0.       ,  -81.21088  ],\n",
       "        [-120.72201  ,  -47.33336  ],\n",
       "        [   0.       ,  -99.84738  ],\n",
       "        [ -61.948593 ,  -91.852005 ],\n",
       "        [   0.       ,  -19.733942 ],\n",
       "        [-114.46859  ,  -39.500988 ],\n",
       "        [-108.012985 ,   -7.471518 ],\n",
       "        [ -91.07159  ,    0.       ],\n",
       "        [ -57.294647 ,    0.       ],\n",
       "        [   0.       ,  -39.664696 ],\n",
       "        [ -82.92593  ,  -11.08629  ],\n",
       "        [-102.70282  ,  -42.68211  ],\n",
       "        [ -93.7846   ,  -39.141167 ],\n",
       "        [-107.27263  ,  -63.723927 ],\n",
       "        [ -72.32507  ,  -66.53941  ],\n",
       "        [ -68.34085  ,  -87.95816  ],\n",
       "        [ -90.03124  ,  -48.92655  ],\n",
       "        [ -91.88272  ,   -0.9934881],\n",
       "        [-106.62928  ,   -7.7114606],\n",
       "        [ -62.93171  ,    2.6884978],\n",
       "        [-104.14404  ,  -30.487356 ],\n",
       "        [   0.       ,  -49.252712 ],\n",
       "        [   0.       ,    0.       ],\n",
       "        [-110.31584  ,  -34.416157 ],\n",
       "        [-108.635956 ,  -60.364822 ],\n",
       "        [-107.265495 ,  -34.46271  ],\n",
       "        [-105.96914  ,  -43.04244  ]], dtype=float32),\n",
       " Array([[ -98.72615  ,  -39.949898 ],\n",
       "        [-120.56735  ,  -50.40268  ],\n",
       "        [-104.12997  ,  -37.02776  ],\n",
       "        [ -91.75906  ,  -45.58336  ],\n",
       "        [-102.4426   ,  -23.787077 ],\n",
       "        [-105.279015 ,  -38.148052 ],\n",
       "        [-108.029785 ,  -34.922615 ],\n",
       "        [ -75.66549  ,   -2.646826 ],\n",
       "        [-107.8706   ,  -55.574516 ],\n",
       "        [   0.       ,  -81.30723  ],\n",
       "        [-120.79002  ,  -47.406075 ],\n",
       "        [   0.       ,  -99.979126 ],\n",
       "        [ -61.978172 ,  -91.92586  ],\n",
       "        [   0.       ,  -19.8112   ],\n",
       "        [-114.52513  ,  -39.540672 ],\n",
       "        [-108.02388  ,   -7.419073 ],\n",
       "        [ -91.14046  ,    0.       ],\n",
       "        [ -57.28967  ,    0.       ],\n",
       "        [   0.       ,  -39.669083 ],\n",
       "        [ -82.92543  ,  -11.086861 ],\n",
       "        [-102.75729  ,  -42.71567  ],\n",
       "        [ -93.85593  ,  -39.120506 ],\n",
       "        [-107.35231  ,  -63.75791  ],\n",
       "        [ -72.35122  ,  -66.66132  ],\n",
       "        [ -68.36242  ,  -88.12676  ],\n",
       "        [ -90.069984 ,  -48.96087  ],\n",
       "        [ -91.902725 ,   -1.01836  ],\n",
       "        [-106.68349  ,   -7.7302594],\n",
       "        [ -62.993374 ,    2.7189777],\n",
       "        [-104.17473  ,  -30.4798   ],\n",
       "        [   0.       ,  -49.24508  ],\n",
       "        [   0.       ,    0.       ],\n",
       "        [-110.32674  ,  -34.450756 ],\n",
       "        [-108.71016  ,  -60.40379  ],\n",
       "        [-107.33441  ,  -34.528248 ],\n",
       "        [-105.91428  ,  -43.127853 ]], dtype=float32)]"
      ]
     },
     "execution_count": 134,
     "metadata": {},
     "output_type": "execute_result"
    }
   ],
   "source": [
    "pred_nodes"
   ]
  },
  {
   "cell_type": "markdown",
   "metadata": {},
   "source": [
    "The `metrics_update` variable is an object that holds some useful information about metrics from the training step, namely the loss. It can be accessed as follows: "
   ]
  },
  {
   "cell_type": "code",
   "execution_count": 135,
   "metadata": {},
   "outputs": [
    {
     "name": "stdout",
     "output_type": "stream",
     "text": [
      "TrainMetrics(_reduction_counter=_ReductionCounter(value=Array(1, dtype=int32, weak_type=True)), loss=Metric.from_output.<locals>.FromOutput(total=Array(5125.2056, dtype=float32), count=Array(1., dtype=float32)))\n",
      "access loss like this: 5125.2056\n"
     ]
    }
   ],
   "source": [
    "print(metrics_update)\n",
    "print('access loss like this:', metrics_update.loss.total)"
   ]
  },
  {
   "cell_type": "markdown",
   "metadata": {},
   "source": [
    "### EVALUATION (VALIDATION, TESTING)"
   ]
  },
  {
   "cell_type": "markdown",
   "metadata": {},
   "source": [
    "The validation step is interwoven throughout the training pipeline; it usually occurs every time you finish a training epoch, or if you want to reduce runtime, every X epochs. \n",
    "\n",
    "The testing dataset should not be used until the **VERY** end of model development, e.g. when you're about to present your results (preparing a poster, presentation, manuscript, etc.) It shouldn't influence your model development at all. That's what the validation dataset is for. "
   ]
  },
  {
   "cell_type": "markdown",
   "metadata": {},
   "source": [
    "example of a single evaluation step: "
   ]
  },
  {
   "cell_type": "code",
   "execution_count": 136,
   "metadata": {},
   "outputs": [],
   "source": [
    "from utils.jraph_training import evaluate_step"
   ]
  },
  {
   "cell_type": "markdown",
   "metadata": {},
   "source": [
    "Again, during evaluation, we want to turn OFF the `dropout` and `deterministic` params in the model instantiation, so we make a new model; in our state we want to copy the params from the training state, keep the correct `apply` function from the new evaluatio model, and don't care about optimizers because we're just doing evaluation. "
   ]
  },
  {
   "cell_type": "code",
   "execution_count": 137,
   "metadata": {},
   "outputs": [],
   "source": [
    "# Create the evaluation state, corresponding to a deterministic model.\n",
    "eval_net = create_model(config, deterministic=True) # Note that dropout is deactivated if deterministic is True. \n",
    "eval_state = state.replace(apply_fn=eval_net.apply)"
   ]
  },
  {
   "cell_type": "code",
   "execution_count": 138,
   "metadata": {},
   "outputs": [],
   "source": [
    "eval_metrics, pred_nodes = evaluate_step(\n",
    "    state=eval_state,\n",
    "    n_rollout_steps=config.output_steps,\n",
    "    input_window_graphs=sample_input_window,\n",
    "    target_window_graphs=sample_target_window)"
   ]
  },
  {
   "cell_type": "markdown",
   "metadata": {},
   "source": [
    "We expect the prediction to be different from above because the params should've been updated. Ideally the loss should also go down a bit. "
   ]
  },
  {
   "cell_type": "code",
   "execution_count": 139,
   "metadata": {},
   "outputs": [
    {
     "data": {
      "text/plain": [
       "[Array([[-83.19216 , -30.645123],\n",
       "        [-83.19216 , -30.645128],\n",
       "        [-83.19216 , -30.645126],\n",
       "        [-83.192154, -30.64513 ],\n",
       "        [-83.19217 , -30.645134],\n",
       "        [-83.19217 , -30.645134],\n",
       "        [-83.192154, -30.64513 ],\n",
       "        [-83.19216 , -30.645132],\n",
       "        [-83.192154, -30.645132],\n",
       "        [-83.19216 , -30.645126],\n",
       "        [-83.192154, -30.645119],\n",
       "        [-83.192154, -30.645124],\n",
       "        [-83.19216 , -30.645126],\n",
       "        [-83.19217 , -30.645132],\n",
       "        [-83.192154, -30.645134],\n",
       "        [-83.192154, -30.645134],\n",
       "        [-83.19226 , -30.64483 ],\n",
       "        [-83.19215 , -30.645119],\n",
       "        [-83.19213 , -30.645105],\n",
       "        [-83.192116, -30.6451  ],\n",
       "        [-83.19212 , -30.645102],\n",
       "        [-83.19213 , -30.6451  ],\n",
       "        [-83.19212 , -30.645098],\n",
       "        [-83.19212 , -30.645103],\n",
       "        [-83.19213 , -30.645111],\n",
       "        [-83.19212 , -30.645103],\n",
       "        [-83.19212 , -30.645115],\n",
       "        [-83.192116, -30.645102],\n",
       "        [-83.19212 , -30.64511 ],\n",
       "        [-83.19213 , -30.645105],\n",
       "        [-83.19213 , -30.645103],\n",
       "        [-83.19212 , -30.645102],\n",
       "        [-83.19212 , -30.645092],\n",
       "        [-83.19212 , -30.645103],\n",
       "        [-83.192154, -30.64514 ],\n",
       "        [-83.19216 , -30.645124]], dtype=float32),\n",
       " Array([[-83.22854 , -30.676598],\n",
       "        [-83.23088 , -30.672749],\n",
       "        [-83.23175 , -30.679148],\n",
       "        [-83.23164 , -30.679113],\n",
       "        [-83.23158 , -30.678902],\n",
       "        [-83.23159 , -30.67889 ],\n",
       "        [-83.23159 , -30.678907],\n",
       "        [-83.23158 , -30.678896],\n",
       "        [-83.23158 , -30.678902],\n",
       "        [-83.23159 , -30.678904],\n",
       "        [-83.23158 , -30.678896],\n",
       "        [-83.23158 , -30.678894],\n",
       "        [-83.23158 , -30.678892],\n",
       "        [-83.23159 , -30.678917],\n",
       "        [-83.231606, -30.678928],\n",
       "        [-83.23157 , -30.678823],\n",
       "        [-83.23122 , -30.678185],\n",
       "        [-83.22098 , -30.669567],\n",
       "        [-83.22009 , -30.671675],\n",
       "        [-83.220566, -30.671947],\n",
       "        [-83.2206  , -30.671862],\n",
       "        [-83.22059 , -30.671848],\n",
       "        [-83.22059 , -30.671854],\n",
       "        [-83.220604, -30.671858],\n",
       "        [-83.220604, -30.671862],\n",
       "        [-83.2206  , -30.671843],\n",
       "        [-83.2206  , -30.67185 ],\n",
       "        [-83.2206  , -30.671879],\n",
       "        [-83.2206  , -30.671858],\n",
       "        [-83.22059 , -30.671764],\n",
       "        [-83.22058 , -30.671824],\n",
       "        [-83.22062 , -30.67233 ],\n",
       "        [-83.22063 , -30.671892],\n",
       "        [-83.220825, -30.66781 ],\n",
       "        [-83.21877 , -30.67069 ],\n",
       "        [-83.19317 , -30.763945]], dtype=float32)]"
      ]
     },
     "execution_count": 139,
     "metadata": {},
     "output_type": "execute_result"
    }
   ],
   "source": [
    "pred_nodes"
   ]
  },
  {
   "cell_type": "code",
   "execution_count": 140,
   "metadata": {},
   "outputs": [
    {
     "data": {
      "text/plain": [
       "Array(3990.5747, dtype=float32)"
      ]
     },
     "execution_count": 140,
     "metadata": {},
     "output_type": "execute_result"
    }
   ],
   "source": [
    "eval_metrics.loss.total"
   ]
  },
  {
   "cell_type": "markdown",
   "metadata": {},
   "source": [
    "Yep, as expected, we verify both are true. "
   ]
  },
  {
   "cell_type": "markdown",
   "metadata": {},
   "source": [
    "The function `evaluate_model` does similar things except it computes loss for all windows in the dataset (not just a single window like what we passed in above) and it does so for multiple modes that you specify via the `splits` param (e.g. `splits = ['val', 'test']`). This is used in the `train_and_evaluate` pipeline and would also come in handy for evaluating over the testing dataset at the very end of model development. "
   ]
  },
  {
   "cell_type": "markdown",
   "metadata": {},
   "source": [
    "### FULL TRAIN PIPELINE"
   ]
  },
  {
   "cell_type": "markdown",
   "metadata": {},
   "source": [
    "The function `train_and_evaluate` runs the entire training pipeline, start to end for the number of epochs specified in the config, and logs a lot of stuff. "
   ]
  },
  {
   "cell_type": "code",
   "execution_count": 141,
   "metadata": {},
   "outputs": [],
   "source": [
    "from utils.jraph_training import train_and_evaluate"
   ]
  },
  {
   "cell_type": "code",
   "execution_count": 145,
   "metadata": {},
   "outputs": [],
   "source": [
    "# set up logging\n",
    "import logging\n",
    "logger = logging.getLogger()\n",
    "logger.setLevel(logging.INFO)"
   ]
  },
  {
   "cell_type": "code",
   "execution_count": 147,
   "metadata": {},
   "outputs": [
    {
     "name": "stderr",
     "output_type": "stream",
     "text": [
      "INFO:absl:Obtaining datasets.\n",
      "INFO:absl:Hyperparameters: {'F': 8, 'K': 36, 'activation': 'relu', 'b': 10, 'c': 10, 'checkpoint_every_epochs': 1, 'dropout_rate': 0.1, 'edge_features': (4, 8), 'epochs': 2, 'eval_every_epochs': 1, 'fully_connected_edges': True, 'global_features': None, 'h': 1, 'init_buffer_samples': 0, 'input_steps': 3, 'layer_norm': False, 'learning_rate': 0.001, 'log_every_epochs': 1, 'max_checkpts_to_keep': None, 'model': 'MLPGraphNetwork', 'n_blocks': 1, 'n_samples': 20, 'node_features': (32, 2), 'normalize': True, 'optimizer': 'adam', 'output_delay': 0, 'output_steps': 2, 'sample_buffer': 1, 'seed': 42, 'share_params': False, 'skip_connections': False, 'test_pct': 0.1, 'time_resolution': 100, 'timestep_duration': 1, 'train_pct': 0.7, 'val_pct': 0.2}\n",
      "INFO:absl:Initializing network.\n",
      "INFO:absl:\n",
      "+----------------------------------------+----------+------+----------+-------+\n",
      "| Name                                   | Shape    | Size | Mean     | Std   |\n",
      "+----------------------------------------+----------+------+----------+-------+\n",
      "| params/MLPBlock_0/MLP_0/Dense_0/bias   | (4,)     | 4    | 0.0      | 0.0   |\n",
      "| params/MLPBlock_0/MLP_0/Dense_0/kernel | (6, 4)   | 24   | -0.0819  | 0.36  |\n",
      "| params/MLPBlock_0/MLP_0/Dense_1/bias   | (8,)     | 8    | 0.0      | 0.0   |\n",
      "| params/MLPBlock_0/MLP_0/Dense_1/kernel | (4, 8)   | 32   | -0.0639  | 0.439 |\n",
      "| params/MLPBlock_0/MLP_1/Dense_0/bias   | (32,)    | 32   | 0.0      | 0.0   |\n",
      "| params/MLPBlock_0/MLP_1/Dense_0/kernel | (19, 32) | 608  | -0.00843 | 0.219 |\n",
      "| params/MLPBlock_0/MLP_1/Dense_1/bias   | (2,)     | 2    | 0.0      | 0.0   |\n",
      "| params/MLPBlock_0/MLP_1/Dense_1/kernel | (32, 2)  | 64   | -0.00627 | 0.195 |\n",
      "+----------------------------------------+----------+------+----------+-------+\n",
      "Total: 774\n",
      "INFO:absl:Checkpoint.restore_or_initialize() ...\n",
      "INFO:absl:No checkpoint specified. Restore the latest checkpoint.\n",
      "INFO:absl:Checkpoint None does not exist.\n",
      "INFO:absl:Checkpoint.save() ...\n",
      "INFO:absl:Checkpoint.save() finished after 0.03s.\n",
      "INFO:absl:Checkpoint.restore_or_initialize() finished after 0.04s.\n",
      "INFO:absl:Starting training.\n",
      "ERROR:absl:Could not start profiling: Profile has already been started. Only one profile may be run at a time.\n",
      "Traceback (most recent call last):\n",
      "  File \"/Users/h.lu/Documents/_code/_research lorenz code/lorenzGNN/lorenzvenv/lib/python3.9/site-packages/clu/periodic_actions.py\", line 327, in _start_session\n",
      "    profiler.start(logdir=self._logdir)\n",
      "  File \"/Users/h.lu/Documents/_code/_research lorenz code/lorenzGNN/lorenzvenv/lib/python3.9/site-packages/clu/profiler.py\", line 38, in start\n",
      "    jax.profiler.start_trace(logdir)\n",
      "  File \"/Users/h.lu/Documents/_code/_research lorenz code/lorenzGNN/lorenzvenv/lib/python3.9/site-packages/jax/_src/profiler.py\", line 111, in start_trace\n",
      "    raise RuntimeError(\"Profile has already been started. \"\n",
      "RuntimeError: Profile has already been started. Only one profile may be run at a time.\n",
      "INFO:absl:[0] train_loss=3391.252197265625\n",
      "INFO:absl:Checkpoint.save() ...\n",
      "INFO:absl:[0] val_loss=1661.358642578125\n",
      "INFO:absl:[0] test_loss=1719.959228515625\n",
      "INFO:absl:Checkpoint.save() finished after 0.02s.\n",
      "INFO:absl:[1] train_loss=999.2669677734375\n",
      "INFO:absl:[1] val_loss=345.2799377441406\n",
      "INFO:absl:Checkpoint.save() ...\n",
      "INFO:absl:[1] test_loss=352.36181640625\n",
      "INFO:absl:Checkpoint.save() finished after 0.02s.\n"
     ]
    }
   ],
   "source": [
    "workdir=\"tests/outputs/demo\"\n",
    "\n",
    "trained_state, train_metrics, eval_metrics_dict = train_and_evaluate(\n",
    "    config=config, workdir=workdir)\n"
   ]
  },
  {
   "cell_type": "markdown",
   "metadata": {},
   "source": [
    "Now if you go to the workdir folder, you can see the checkpoints and tensorboard objects it created. Also notice in the logs that the loss gets better over the (two) epochs we trained for! "
   ]
  },
  {
   "cell_type": "markdown",
   "metadata": {},
   "source": [
    "### HYPERPARAMETER TUNING"
   ]
  },
  {
   "cell_type": "markdown",
   "metadata": {},
   "source": [
    "We use the `optuna` library for hyperparameter tuning, which is a flexible framework that can work with any ML library we use. \n",
    "\n",
    "terminology:\n",
    "* objective function: a function that returns the value you want to optimize (for example, an entire training pipeline, which trains a model for X epochs and returns the final validation loss. We want to minimize the loss by the end of training, and we need to tune the hyperparameters to do so.)\n",
    "* Parameter: A variable whose value is to be optimized. can be continuous, discrete, categorical, etc. (e.g. learning rate, number of GNBlocks chained together, choice of activation function, etc.)\n",
    "* Trial: An object which is like a single run of the objective function; in each trial, optuna generates different parameters.\n",
    "* Study: An optimization session, which is a set of trials. parameters vary across trials, and we can choose the best set of hyperparams by the end of the study. \n",
    "\n",
    "This tutorial explains how things work in more depth: https://uvadlc-notebooks.readthedocs.io/en/latest/tutorial_notebooks/guide4/Research_Projects_with_JAX.html#Automatic-hyperparameter-tuning-with-Optuna \n"
   ]
  },
  {
   "cell_type": "markdown",
   "metadata": {},
   "source": [
    "Here is an example run: "
   ]
  },
  {
   "cell_type": "code",
   "execution_count": 151,
   "metadata": {},
   "outputs": [],
   "source": [
    "import optuna \n",
    "from utils.jraph_training import train_and_evaluate_with_data, create_dataset\n",
    "import os \n",
    "from functools import partial\n",
    "\n",
    "CHECKPOINT_PATH = 'experiments/tuning'"
   ]
  },
  {
   "cell_type": "markdown",
   "metadata": {},
   "source": [
    "define the objective function: "
   ]
  },
  {
   "cell_type": "code",
   "execution_count": 182,
   "metadata": {},
   "outputs": [],
   "source": [
    "def objective(trial, study_name, datasets):\n",
    "    \"\"\" Defines the objective function to be optimized over, aka the validation loss of a model.\n",
    "    \n",
    "        Args:\n",
    "            trial: object which characterizes the current run \n",
    "            datasets: dictionary of data. we explicitly pass this in so that we don't have to waste runtime regenerating the same dataset over and over. \n",
    "    \"\"\"\n",
    "    # create config \n",
    "    config = ml_collections.ConfigDict()\n",
    "\n",
    "    # Data params. \n",
    "    config.n_samples=20\n",
    "    config.input_steps=3\n",
    "    config.output_delay=0\n",
    "    config.output_steps=2\n",
    "    config.timestep_duration=1\n",
    "    config.sample_buffer=1\n",
    "    config.time_resolution=100\n",
    "    config.init_buffer_samples=0\n",
    "    config.train_pct=0.7\n",
    "    config.val_pct=0.2\n",
    "    config.test_pct=0.1\n",
    "    config.K=36\n",
    "    config.F=8\n",
    "    config.c=10\n",
    "    config.b=10\n",
    "    config.h=1\n",
    "    config.seed=42\n",
    "    config.normalize=True\n",
    "    config.fully_connected_edges=True\n",
    "\n",
    "    config.max_checkpts_to_keep = 2\n",
    "\n",
    "    # Optimizer.\n",
    "    # config.optimizer = \"adam\"\n",
    "    config.optimizer = trial.suggest_categorical(\"optimizer\", [\"adam\", \"sgd\"])\n",
    "    config.learning_rate = trial.suggest_float('learning_rate', 3e-4, 3e-3, \n",
    "                                               log=True)\n",
    "    if config.optimizer == \"sgd\":\n",
    "        config.momentum = trial.suggest_float('momentum', 0, 0.999) # upper bound is inclusive, and we want to exclude a momentum of 1 because that would yield no decay \n",
    "\n",
    "    # Training hyperparameters.\n",
    "    config.batch_size = 1 # variable currently not used\n",
    "    config.epochs = 4\n",
    "    config.log_every_epochs = 1\n",
    "    config.eval_every_epochs = 1\n",
    "    config.checkpoint_every_epochs = 1\n",
    "\n",
    "    # GNN hyperparameters.\n",
    "    config.model = 'MLPGraphNetwork'\n",
    "    config.n_blocks = trial.suggest_int('n_blocks', 1, 3)\n",
    "    config.share_params = False\n",
    "    config.dropout_rate = trial.suggest_float('dropout_rate', 0, 0.2)\n",
    "    config.skip_connections = False # This was throwing a broadcast error in add_graphs_tuples_nodes when this was set to True\n",
    "    config.layer_norm = False # TODO perhaps we want to turn on later\n",
    "    config.activation = trial.suggest_categorical(\n",
    "        'activation', [\"relu\", \"elu\", \"leaky_relu\"])\n",
    "    # config.activation = \"leaky_relu\"\n",
    "    \n",
    "    config.pred_x1 = True\n",
    "    config.pred_x2 = True\n",
    "\n",
    "    if config.pred_x1 and config.pred_x2:\n",
    "        output_layer = 2\n",
    "    else:\n",
    "        output_layer = 1\n",
    "\n",
    "    # choose the hidden layer feature size using powers of 2 \n",
    "    config.edge_features = (\n",
    "        2**trial.suggest_int(\"edge_mlp_1_power\", 1, 3), # range 2 - 8; upper bound is inclusive\n",
    "        2**trial.suggest_int(\"edge_mlp_2_power\", 1, 3), # range 2 - 8\n",
    "    )\n",
    "    config.node_features = (\n",
    "        2**trial.suggest_int(\"node_mlp_1_power\", 1, 6), \n",
    "        # 2**trial.suggest_int(\"node_mlp_2_power\", 1, 6), \n",
    "        output_layer) \n",
    "    # note the last feature size will be the number of features that the graph predicts\n",
    "    config.global_features = None\n",
    "\n",
    "    # generate a workdir \n",
    "    # TODO: check if we actually care about referencing this in the future or if we can just create a temp dir \n",
    "    workdir=os.path.join(CHECKPOINT_PATH, study_name, f\"trial_{trial.number}\")\n",
    "\n",
    "    # run training \n",
    "    state, train_metrics, eval_metrics_dict = train_and_evaluate_with_data(config=config, workdir=workdir, datasets=datasets, trial=trial)\n",
    "    \n",
    "    # retrieve and return val loss (MSE)\n",
    "    return eval_metrics_dict['val'].compute()['loss']"
   ]
  },
  {
   "cell_type": "code",
   "execution_count": 183,
   "metadata": {},
   "outputs": [],
   "source": [
    "# generate dataset \n",
    "datasets = create_dataset(config)"
   ]
  },
  {
   "cell_type": "code",
   "execution_count": 184,
   "metadata": {},
   "outputs": [],
   "source": [
    "def prepare_study(study_name):\n",
    "    # get the objective function that reuses the pre-generated datasets \n",
    "    objective_partial = partial(objective, study_name=study_name, \n",
    "                                datasets=datasets)\n",
    "\n",
    "    # run optimization study\n",
    "    db_path = os.path.join(CHECKPOINT_PATH, study_name, \"optuna_hparam_search.db\")\n",
    "    if not os.path.exists(os.path.join(CHECKPOINT_PATH, study_name)):\n",
    "        os.makedirs(os.path.join(CHECKPOINT_PATH, study_name))\n",
    "\n",
    "    study = optuna.create_study(\n",
    "        study_name=study_name,\n",
    "        storage=f'sqlite:///{db_path}', # generates a new db if it doesn't exist\n",
    "        direction='minimize',\n",
    "        pruner=optuna.pruners.MedianPruner(\n",
    "            n_startup_trials=5, \n",
    "            n_warmup_steps=50,\n",
    "            ), \n",
    "        load_if_exists=True, \n",
    "    )\n",
    "    \n",
    "    return study, objective_partial"
   ]
  },
  {
   "cell_type": "markdown",
   "metadata": {},
   "source": [
    "Create the study. Then run the optimization. "
   ]
  },
  {
   "cell_type": "code",
   "execution_count": 185,
   "metadata": {},
   "outputs": [
    {
     "name": "stderr",
     "output_type": "stream",
     "text": [
      "[I 2024-02-06 10:58:20,747] A new study created in RDB with name: demo\n"
     ]
    }
   ],
   "source": [
    "# create the study\n",
    "study, objective_partial = prepare_study(study_name=\"demo\")"
   ]
  },
  {
   "cell_type": "code",
   "execution_count": 186,
   "metadata": {},
   "outputs": [],
   "source": [
    "# turn off logging because it'll get annoying \n",
    "logger.setLevel(logging.WARNING)"
   ]
  },
  {
   "cell_type": "code",
   "execution_count": 187,
   "metadata": {},
   "outputs": [
    {
     "name": "stderr",
     "output_type": "stream",
     "text": [
      "ERROR:absl:Could not start profiling: Profile has already been started. Only one profile may be run at a time.\n",
      "Traceback (most recent call last):\n",
      "  File \"/Users/h.lu/Documents/_code/_research lorenz code/lorenzGNN/lorenzvenv/lib/python3.9/site-packages/clu/periodic_actions.py\", line 327, in _start_session\n",
      "    profiler.start(logdir=self._logdir)\n",
      "  File \"/Users/h.lu/Documents/_code/_research lorenz code/lorenzGNN/lorenzvenv/lib/python3.9/site-packages/clu/profiler.py\", line 38, in start\n",
      "    jax.profiler.start_trace(logdir)\n",
      "  File \"/Users/h.lu/Documents/_code/_research lorenz code/lorenzGNN/lorenzvenv/lib/python3.9/site-packages/jax/_src/profiler.py\", line 111, in start_trace\n",
      "    raise RuntimeError(\"Profile has already been started. \"\n",
      "RuntimeError: Profile has already been started. Only one profile may be run at a time.\n",
      "[I 2024-02-06 10:58:30,887] Trial 0 finished with value: 502.29071044921875 and parameters: {'optimizer': 'adam', 'learning_rate': 0.0009468917515128164, 'n_blocks': 1, 'dropout_rate': 0.07210241902162905, 'activation': 'relu', 'edge_mlp_1_power': 3, 'edge_mlp_2_power': 1, 'node_mlp_1_power': 2}. Best is trial 0 with value: 502.29071044921875.\n",
      "ERROR:absl:Could not start profiling: Profile has already been started. Only one profile may be run at a time.\n",
      "Traceback (most recent call last):\n",
      "  File \"/Users/h.lu/Documents/_code/_research lorenz code/lorenzGNN/lorenzvenv/lib/python3.9/site-packages/clu/periodic_actions.py\", line 327, in _start_session\n",
      "    profiler.start(logdir=self._logdir)\n",
      "  File \"/Users/h.lu/Documents/_code/_research lorenz code/lorenzGNN/lorenzvenv/lib/python3.9/site-packages/clu/profiler.py\", line 38, in start\n",
      "    jax.profiler.start_trace(logdir)\n",
      "  File \"/Users/h.lu/Documents/_code/_research lorenz code/lorenzGNN/lorenzvenv/lib/python3.9/site-packages/jax/_src/profiler.py\", line 111, in start_trace\n",
      "    raise RuntimeError(\"Profile has already been started. \"\n",
      "RuntimeError: Profile has already been started. Only one profile may be run at a time.\n",
      "[I 2024-02-06 10:58:47,288] Trial 1 finished with value: 5.622570037841797 and parameters: {'optimizer': 'adam', 'learning_rate': 0.00233126579667957, 'n_blocks': 3, 'dropout_rate': 0.045360734021383325, 'activation': 'relu', 'edge_mlp_1_power': 2, 'edge_mlp_2_power': 2, 'node_mlp_1_power': 1}. Best is trial 1 with value: 5.622570037841797.\n",
      "ERROR:absl:Could not start profiling: Profile has already been started. Only one profile may be run at a time.\n",
      "Traceback (most recent call last):\n",
      "  File \"/Users/h.lu/Documents/_code/_research lorenz code/lorenzGNN/lorenzvenv/lib/python3.9/site-packages/clu/periodic_actions.py\", line 327, in _start_session\n",
      "    profiler.start(logdir=self._logdir)\n",
      "  File \"/Users/h.lu/Documents/_code/_research lorenz code/lorenzGNN/lorenzvenv/lib/python3.9/site-packages/clu/profiler.py\", line 38, in start\n",
      "    jax.profiler.start_trace(logdir)\n",
      "  File \"/Users/h.lu/Documents/_code/_research lorenz code/lorenzGNN/lorenzvenv/lib/python3.9/site-packages/jax/_src/profiler.py\", line 111, in start_trace\n",
      "    raise RuntimeError(\"Profile has already been started. \"\n",
      "RuntimeError: Profile has already been started. Only one profile may be run at a time.\n",
      "[I 2024-02-06 10:58:57,852] Trial 2 finished with value: 631.892578125 and parameters: {'optimizer': 'adam', 'learning_rate': 0.0007231905147257836, 'n_blocks': 2, 'dropout_rate': 0.020073194874270464, 'activation': 'relu', 'edge_mlp_1_power': 3, 'edge_mlp_2_power': 1, 'node_mlp_1_power': 4}. Best is trial 1 with value: 5.622570037841797.\n",
      "ERROR:absl:Could not start profiling: Profile has already been started. Only one profile may be run at a time.\n",
      "Traceback (most recent call last):\n",
      "  File \"/Users/h.lu/Documents/_code/_research lorenz code/lorenzGNN/lorenzvenv/lib/python3.9/site-packages/clu/periodic_actions.py\", line 327, in _start_session\n",
      "    profiler.start(logdir=self._logdir)\n",
      "  File \"/Users/h.lu/Documents/_code/_research lorenz code/lorenzGNN/lorenzvenv/lib/python3.9/site-packages/clu/profiler.py\", line 38, in start\n",
      "    jax.profiler.start_trace(logdir)\n",
      "  File \"/Users/h.lu/Documents/_code/_research lorenz code/lorenzGNN/lorenzvenv/lib/python3.9/site-packages/jax/_src/profiler.py\", line 111, in start_trace\n",
      "    raise RuntimeError(\"Profile has already been started. \"\n",
      "RuntimeError: Profile has already been started. Only one profile may be run at a time.\n",
      "[I 2024-02-06 10:59:03,911] Trial 3 finished with value: 11.934476852416992 and parameters: {'optimizer': 'adam', 'learning_rate': 0.002178545756841023, 'n_blocks': 1, 'dropout_rate': 0.10228770459337273, 'activation': 'elu', 'edge_mlp_1_power': 1, 'edge_mlp_2_power': 3, 'node_mlp_1_power': 6}. Best is trial 1 with value: 5.622570037841797.\n",
      "ERROR:absl:Could not start profiling: Profile has already been started. Only one profile may be run at a time.\n",
      "Traceback (most recent call last):\n",
      "  File \"/Users/h.lu/Documents/_code/_research lorenz code/lorenzGNN/lorenzvenv/lib/python3.9/site-packages/clu/periodic_actions.py\", line 327, in _start_session\n",
      "    profiler.start(logdir=self._logdir)\n",
      "  File \"/Users/h.lu/Documents/_code/_research lorenz code/lorenzGNN/lorenzvenv/lib/python3.9/site-packages/clu/profiler.py\", line 38, in start\n",
      "    jax.profiler.start_trace(logdir)\n",
      "  File \"/Users/h.lu/Documents/_code/_research lorenz code/lorenzGNN/lorenzvenv/lib/python3.9/site-packages/jax/_src/profiler.py\", line 111, in start_trace\n",
      "    raise RuntimeError(\"Profile has already been started. \"\n",
      "RuntimeError: Profile has already been started. Only one profile may be run at a time.\n",
      "[I 2024-02-06 10:59:09,745] Trial 4 finished with value: 2186.28955078125 and parameters: {'optimizer': 'adam', 'learning_rate': 0.0003321442204132884, 'n_blocks': 1, 'dropout_rate': 0.18057515225952836, 'activation': 'relu', 'edge_mlp_1_power': 3, 'edge_mlp_2_power': 2, 'node_mlp_1_power': 4}. Best is trial 1 with value: 5.622570037841797.\n"
     ]
    }
   ],
   "source": [
    "# run the optimization \n",
    "study.optimize(objective_partial, \n",
    "                n_trials=5-len(study.trials), \n",
    "                n_jobs=1)"
   ]
  },
  {
   "cell_type": "markdown",
   "metadata": {},
   "source": [
    "Then we can look at the different trials in the study and choose the best one. "
   ]
  },
  {
   "cell_type": "code",
   "execution_count": 188,
   "metadata": {},
   "outputs": [
    {
     "data": {
      "text/plain": [
       "[FrozenTrial(number=0, state=TrialState.COMPLETE, values=[502.29071044921875], datetime_start=datetime.datetime(2024, 2, 6, 10, 58, 23, 308016), datetime_complete=datetime.datetime(2024, 2, 6, 10, 58, 30, 852128), params={'optimizer': 'adam', 'learning_rate': 0.0009468917515128164, 'n_blocks': 1, 'dropout_rate': 0.07210241902162905, 'activation': 'relu', 'edge_mlp_1_power': 3, 'edge_mlp_2_power': 1, 'node_mlp_1_power': 2}, user_attrs={}, system_attrs={}, intermediate_values={0: 1555.1356201171875, 1: 1050.9931640625, 2: 720.1218872070312, 3: 502.29071044921875}, distributions={'optimizer': CategoricalDistribution(choices=('adam', 'sgd')), 'learning_rate': FloatDistribution(high=0.003, log=True, low=0.0003, step=None), 'n_blocks': IntDistribution(high=3, log=False, low=1, step=1), 'dropout_rate': FloatDistribution(high=0.2, log=False, low=0.0, step=None), 'activation': CategoricalDistribution(choices=('relu', 'elu', 'leaky_relu')), 'edge_mlp_1_power': IntDistribution(high=3, log=False, low=1, step=1), 'edge_mlp_2_power': IntDistribution(high=3, log=False, low=1, step=1), 'node_mlp_1_power': IntDistribution(high=6, log=False, low=1, step=1)}, trial_id=1, value=None),\n",
       " FrozenTrial(number=1, state=TrialState.COMPLETE, values=[5.622570037841797], datetime_start=datetime.datetime(2024, 2, 6, 10, 58, 30, 910123), datetime_complete=datetime.datetime(2024, 2, 6, 10, 58, 47, 269558), params={'optimizer': 'adam', 'learning_rate': 0.00233126579667957, 'n_blocks': 3, 'dropout_rate': 0.045360734021383325, 'activation': 'relu', 'edge_mlp_1_power': 2, 'edge_mlp_2_power': 2, 'node_mlp_1_power': 1}, user_attrs={}, system_attrs={}, intermediate_values={0: 14.976932525634766, 1: 5.6012067794799805, 2: 5.5649614334106445, 3: 5.622570037841797}, distributions={'optimizer': CategoricalDistribution(choices=('adam', 'sgd')), 'learning_rate': FloatDistribution(high=0.003, log=True, low=0.0003, step=None), 'n_blocks': IntDistribution(high=3, log=False, low=1, step=1), 'dropout_rate': FloatDistribution(high=0.2, log=False, low=0.0, step=None), 'activation': CategoricalDistribution(choices=('relu', 'elu', 'leaky_relu')), 'edge_mlp_1_power': IntDistribution(high=3, log=False, low=1, step=1), 'edge_mlp_2_power': IntDistribution(high=3, log=False, low=1, step=1), 'node_mlp_1_power': IntDistribution(high=6, log=False, low=1, step=1)}, trial_id=2, value=None),\n",
       " FrozenTrial(number=2, state=TrialState.COMPLETE, values=[631.892578125], datetime_start=datetime.datetime(2024, 2, 6, 10, 58, 47, 302272), datetime_complete=datetime.datetime(2024, 2, 6, 10, 58, 57, 831878), params={'optimizer': 'adam', 'learning_rate': 0.0007231905147257836, 'n_blocks': 2, 'dropout_rate': 0.020073194874270464, 'activation': 'relu', 'edge_mlp_1_power': 3, 'edge_mlp_2_power': 1, 'node_mlp_1_power': 4}, user_attrs={}, system_attrs={}, intermediate_values={0: 29040.623046875, 1: 3601.515869140625, 2: 1434.814697265625, 3: 631.892578125}, distributions={'optimizer': CategoricalDistribution(choices=('adam', 'sgd')), 'learning_rate': FloatDistribution(high=0.003, log=True, low=0.0003, step=None), 'n_blocks': IntDistribution(high=3, log=False, low=1, step=1), 'dropout_rate': FloatDistribution(high=0.2, log=False, low=0.0, step=None), 'activation': CategoricalDistribution(choices=('relu', 'elu', 'leaky_relu')), 'edge_mlp_1_power': IntDistribution(high=3, log=False, low=1, step=1), 'edge_mlp_2_power': IntDistribution(high=3, log=False, low=1, step=1), 'node_mlp_1_power': IntDistribution(high=6, log=False, low=1, step=1)}, trial_id=3, value=None),\n",
       " FrozenTrial(number=3, state=TrialState.COMPLETE, values=[11.934476852416992], datetime_start=datetime.datetime(2024, 2, 6, 10, 58, 57, 866174), datetime_complete=datetime.datetime(2024, 2, 6, 10, 59, 3, 877191), params={'optimizer': 'adam', 'learning_rate': 0.002178545756841023, 'n_blocks': 1, 'dropout_rate': 0.10228770459337273, 'activation': 'elu', 'edge_mlp_1_power': 1, 'edge_mlp_2_power': 3, 'node_mlp_1_power': 6}, user_attrs={}, system_attrs={}, intermediate_values={0: 472.70074462890625, 1: 87.14776611328125, 2: 22.471092224121094, 3: 11.934476852416992}, distributions={'optimizer': CategoricalDistribution(choices=('adam', 'sgd')), 'learning_rate': FloatDistribution(high=0.003, log=True, low=0.0003, step=None), 'n_blocks': IntDistribution(high=3, log=False, low=1, step=1), 'dropout_rate': FloatDistribution(high=0.2, log=False, low=0.0, step=None), 'activation': CategoricalDistribution(choices=('relu', 'elu', 'leaky_relu')), 'edge_mlp_1_power': IntDistribution(high=3, log=False, low=1, step=1), 'edge_mlp_2_power': IntDistribution(high=3, log=False, low=1, step=1), 'node_mlp_1_power': IntDistribution(high=6, log=False, low=1, step=1)}, trial_id=4, value=None),\n",
       " FrozenTrial(number=4, state=TrialState.COMPLETE, values=[2186.28955078125], datetime_start=datetime.datetime(2024, 2, 6, 10, 59, 3, 934065), datetime_complete=datetime.datetime(2024, 2, 6, 10, 59, 9, 725793), params={'optimizer': 'adam', 'learning_rate': 0.0003321442204132884, 'n_blocks': 1, 'dropout_rate': 0.18057515225952836, 'activation': 'relu', 'edge_mlp_1_power': 3, 'edge_mlp_2_power': 2, 'node_mlp_1_power': 4}, user_attrs={}, system_attrs={}, intermediate_values={0: 4319.21533203125, 1: 3418.157958984375, 2: 2723.766357421875, 3: 2186.28955078125}, distributions={'optimizer': CategoricalDistribution(choices=('adam', 'sgd')), 'learning_rate': FloatDistribution(high=0.003, log=True, low=0.0003, step=None), 'n_blocks': IntDistribution(high=3, log=False, low=1, step=1), 'dropout_rate': FloatDistribution(high=0.2, log=False, low=0.0, step=None), 'activation': CategoricalDistribution(choices=('relu', 'elu', 'leaky_relu')), 'edge_mlp_1_power': IntDistribution(high=3, log=False, low=1, step=1), 'edge_mlp_2_power': IntDistribution(high=3, log=False, low=1, step=1), 'node_mlp_1_power': IntDistribution(high=6, log=False, low=1, step=1)}, trial_id=5, value=None)]"
      ]
     },
     "execution_count": 188,
     "metadata": {},
     "output_type": "execute_result"
    }
   ],
   "source": [
    "study.trials"
   ]
  },
  {
   "cell_type": "code",
   "execution_count": 189,
   "metadata": {},
   "outputs": [],
   "source": [
    "from utils.hyperparam_tuning import get_best_trial_config, get_best_trial_workdir\n",
    "from utils.jraph_vis import plot_predictions"
   ]
  },
  {
   "cell_type": "code",
   "execution_count": 194,
   "metadata": {},
   "outputs": [
    {
     "data": {
      "image/png": "[encoded data removed]",
      "text/plain": [
       "<Figure size 1500x1000 with 2 Axes>"
      ]
     },
     "metadata": {},
     "output_type": "display_data"
    }
   ],
   "source": [
    "plot_predictions(\n",
    "    config=get_best_trial_config(study=study),\n",
    "    workdir=get_best_trial_workdir(study=study), # for loading checkpoints \n",
    "    plot_ith_rollout_step=0, # 0 indexed # for this study, we have a 4-step rollout \n",
    "    # dataset,\n",
    "    # preds,\n",
    "    # timestep_duration,\n",
    "    # n_rollout_steps,\n",
    "    #  total_steps,\n",
    "    node=0, # 0-indexed \n",
    "    plot_mode=\"val\", # i.e. \"train\"/\"val\"/\"test\"\n",
    "    datasets=datasets,\n",
    "    # plot_days=60,\n",
    ")"
   ]
  },
  {
   "cell_type": "markdown",
   "metadata": {},
   "source": [
    "### Closing Remarks"
   ]
  },
  {
   "cell_type": "markdown",
   "metadata": {},
   "source": [
    "Library documentation that I had to reference a lot: \n",
    "\n",
    "* [jraph](https://jraph.readthedocs.io/en/latest/index.html)\n",
    "* [jax](https://jax.readthedocs.io/en/latest/index.html)\n",
    "* [flax](https://flax.readthedocs.io/en/latest/)\n",
    "* [optuna](https://optuna.readthedocs.io/en/stable/index.html)"
   ]
  }
 ],
 "metadata": {
  "kernelspec": {
   "display_name": "lorenzvenv",
   "language": "python",
   "name": "python3"
  },
  "language_info": {
   "codemirror_mode": {
    "name": "ipython",
    "version": 3
   },
   "file_extension": ".py",
   "mimetype": "text/x-python",
   "name": "python",
   "nbconvert_exporter": "python",
   "pygments_lexer": "ipython3",
   "version": "3.9.17"
  }
 },
 "nbformat": 4,
 "nbformat_minor": 2
}
