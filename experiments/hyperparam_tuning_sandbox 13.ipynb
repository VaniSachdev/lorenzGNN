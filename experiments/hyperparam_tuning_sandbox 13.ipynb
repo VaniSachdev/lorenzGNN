{
 "cells": [
  {
   "cell_type": "markdown",
   "metadata": {},
   "source": [
    "Hyperparameter tuning with Optuna. same as study 12 except restrict some of the parameter values even further. gncore. still only 5 edges per node. 200 epochs. "
   ]
  },
  {
   "cell_type": "markdown",
   "metadata": {},
   "source": [
    "### imports and setup"
   ]
  },
  {
   "cell_type": "code",
   "execution_count": 1,
   "metadata": {},
   "outputs": [],
   "source": [
    "# ipython extension to autoreload imported modules so that any changes will be up to date before running code in this nb\n",
    "%load_ext autoreload \n",
    "%autoreload 2"
   ]
  },
  {
   "cell_type": "code",
   "execution_count": 2,
   "metadata": {},
   "outputs": [
    {
     "name": "stderr",
     "output_type": "stream",
     "text": [
      "/Users/h.lu/Documents/_code/_research lorenz code/lorenzGNN/lorenzvenv/lib/python3.9/site-packages/tqdm/auto.py:22: TqdmWarning: IProgress not found. Please update jupyter and ipywidgets. See https://ipywidgets.readthedocs.io/en/stable/user_install.html\n",
      "  from .autonotebook import tqdm as notebook_tqdm\n",
      "/Users/h.lu/Documents/_code/_research lorenz code/lorenzGNN/lorenzvenv/lib/python3.9/site-packages/jax/_src/api_util.py:229: SyntaxWarning: Jitted function has invalid argnames {'n_rollout_steps, pred_x1, pred_x2'} in static_argnames. Function does not take these args.This warning will be replaced by an error after 2022-08-20 at the earliest.\n",
      "  warnings.warn(f\"Jitted function has invalid argnames {invalid_argnames} \"\n"
     ]
    }
   ],
   "source": [
    "from utils.jraph_training import train_and_evaluate_with_data, create_dataset\n",
    "# from utils.jraph_models import MLPGraphNetwork\n",
    "from utils.jraph_data import print_graph_fts\n",
    "from utils.jraph_vis import plot_predictions\n",
    "from utils.hyperparam_tuning import remove_bad_trials, get_best_trial_config, get_best_trial_workdir\n",
    "import ml_collections\n",
    "import optuna \n",
    "from flax import linen as nn\n",
    "from functools import partial\n",
    "from datetime import datetime\n",
    "import os "
   ]
  },
  {
   "cell_type": "code",
   "execution_count": 3,
   "metadata": {},
   "outputs": [],
   "source": [
    "# set up logging\n",
    "import logging\n",
    "logger = logging.getLogger()\n",
    "logger.setLevel(logging.WARNING)"
   ]
  },
  {
   "cell_type": "markdown",
   "metadata": {},
   "source": [
    "### set up functions for optuna"
   ]
  },
  {
   "cell_type": "code",
   "execution_count": 4,
   "metadata": {},
   "outputs": [],
   "source": [
    "CHECKPOINT_PATH = \"/Users/h.lu/Documents/_code/_research lorenz code/lorenzGNN/experiments/tuning\""
   ]
  },
  {
   "cell_type": "code",
   "execution_count": 19,
   "metadata": {},
   "outputs": [],
   "source": [
    "def objective(trial, study_name, datasets):\n",
    "    \"\"\" Defines the objective function to be optimized over, aka the validation loss of a model.\n",
    "    \n",
    "        Args:\n",
    "            trial: object which characterizes the current run \n",
    "            datasets: dictionary of data. we explicitly pass this in so that we don't have to waste runtime regenerating the same dataset over and over. \n",
    "    \"\"\"\n",
    "    # create config \n",
    "    config = ml_collections.ConfigDict()\n",
    "    config.max_checkpts_to_keep = 2\n",
    "\n",
    "    # Optimizer.\n",
    "    config.optimizer = \"adam\"\n",
    "    # config.optimizer = trial.suggest_categorical(\"optimizer\", [\"adam\", \"sgd\"])\n",
    "    config.learning_rate = trial.suggest_float('learning_rate', 3e-4, 3e-3, \n",
    "                                               log=True)\n",
    "    # if config.optimizer == \"sgd\":\n",
    "    #     config.momentum = trial.suggest_float('momentum', 0, 0.999) # upper bound is inclusive, and we want to exclude a momentum of 1 because that would yield no decay \n",
    "\n",
    "    # Data params that are used in training \n",
    "    config.output_steps = 4\n",
    "\n",
    "    # Training hyperparameters.\n",
    "    config.batch_size = 1 # variable currently not used\n",
    "    config.epochs = 200\n",
    "    config.log_every_epochs = 5\n",
    "    config.eval_every_epochs = 5\n",
    "    config.checkpoint_every_epochs = 10\n",
    "\n",
    "    # GNN hyperparameters.\n",
    "    config.model = 'MLPGraphNetwork'\n",
    "    config.n_blocks = trial.suggest_int('n_blocks', 1, 6)\n",
    "    config.share_params = False\n",
    "    config.dropout_rate = trial.suggest_float('dropout_rate', 0, 0.2)\n",
    "    config.skip_connections = False # This was throwing a broadcast error in add_graphs_tuples_nodes when this was set to True\n",
    "    config.layer_norm = False # TODO perhaps we want to turn on later\n",
    "    # config.activation = trial.suggest_categorical(\n",
    "    #     'activation', [\"relu\", \"elu\", \"leaky_relu\"])\n",
    "    config.activation = \"leaky_relu\"\n",
    "    \n",
    "    config.pred_x1 = True\n",
    "    config.pred_x2 = True\n",
    "\n",
    "    if config.pred_x1 and config.pred_x2:\n",
    "        output_layer = 2\n",
    "    else:\n",
    "        output_layer = 1\n",
    "\n",
    "    # choose the hidden layer feature size using powers of 2 \n",
    "    config.edge_features = (\n",
    "        2**trial.suggest_int(\"edge_mlp_1_power\", 1, 3), # range 2 - 8; upper bound is inclusive\n",
    "        2**trial.suggest_int(\"edge_mlp_2_power\", 1, 3), # range 2 - 8\n",
    "    )\n",
    "    config.node_features = (\n",
    "        2**trial.suggest_int(\"node_mlp_1_power\", 1, 6), \n",
    "        # 2**trial.suggest_int(\"node_mlp_2_power\", 1, 6), \n",
    "        output_layer) \n",
    "    # note the last feature size will be the number of features that the graph predicts\n",
    "    config.global_features = None\n",
    "\n",
    "    # generate a workdir \n",
    "    # TODO: check if we actually care about referencing this in the future or if we can just create a temp dir \n",
    "    workdir=os.path.join(CHECKPOINT_PATH, study_name, f\"trial_{trial.number}\")\n",
    "\n",
    "    # run training \n",
    "    state, train_metrics, eval_metrics_dict = train_and_evaluate_with_data(config=config, workdir=workdir, datasets=datasets, trial=trial)\n",
    "    \n",
    "    # retrieve and return val loss (MSE)\n",
    "    # print(\"eval_metrics_dict['val'].loss\", eval_metrics_dict['val'].loss)\n",
    "    # print(\"eval_metrics_dict['val'].compute()['loss']\", eval_metrics_dict['val'].compute()['loss'])\n",
    "    # print()\n",
    "    return eval_metrics_dict['val'].compute()['loss']\n",
    "\n",
    "\n"
   ]
  },
  {
   "cell_type": "code",
   "execution_count": 6,
   "metadata": {},
   "outputs": [],
   "source": [
    "def get_data_config():\n",
    "    config = ml_collections.ConfigDict()\n",
    "\n",
    "    config.n_samples=10_000\n",
    "    config.input_steps=1\n",
    "    config.output_delay=8 # predict 24 hrs into the future \n",
    "    config.output_steps=4\n",
    "    config.timestep_duration=3 # equivalent to 3 hours\n",
    "    # note a 3 hour timestep resolution would be 5*24/3=40\n",
    "    # if the time_resolution is 120, then a sampling frequency of 3 would achieve a 3 hour timestep \n",
    "    config.sample_buffer = -1 * (config.input_steps + config.output_delay + config.output_steps - 1) # negative buffer so that our sample input are continuous (i.e. the first sample would overlap a bit with consecutive samples) \n",
    "        # number of timesteps strictly between the end \n",
    "        # of one full sample and the start of the next sample\n",
    "    config.time_resolution=120 # the number of \n",
    "                # raw data points generated per time unit, equivalent to the \n",
    "                # number of data points generated per 5 days in the simulation\n",
    "    config.init_buffer_samples=100\n",
    "    config.train_pct=0.7\n",
    "    config.val_pct=0.2\n",
    "    config.test_pct=0.1\n",
    "    config.K=36\n",
    "    config.F=8\n",
    "    config.c=10\n",
    "    config.b=10\n",
    "    config.h=1\n",
    "    config.seed=42\n",
    "    config.normalize=True\n",
    "    config.fully_connected_edges=False\n",
    "\n",
    "    return config"
   ]
  },
  {
   "cell_type": "code",
   "execution_count": 20,
   "metadata": {},
   "outputs": [],
   "source": [
    "def prepare_study(study_name):\n",
    "    # generate dataset \n",
    "    dataset_config = get_data_config()\n",
    "    datasets = create_dataset(dataset_config)\n",
    "    print_graph_fts(datasets['train']['inputs'][0][0])\n",
    "\n",
    "    # get the objective function that reuses the pre-generated datasets \n",
    "    objective_partial = partial(objective, study_name=study_name, \n",
    "                                datasets=datasets)\n",
    "\n",
    "    # run optimization study\n",
    "    db_path = os.path.join(CHECKPOINT_PATH, study_name, \"optuna_hparam_search.db\")\n",
    "    if not os.path.exists(os.path.join(CHECKPOINT_PATH, study_name)):\n",
    "        os.makedirs(os.path.join(CHECKPOINT_PATH, study_name))\n",
    "\n",
    "    study = optuna.create_study(\n",
    "        study_name=study_name,\n",
    "        storage=f'sqlite:///{db_path}', # generates a new db if it doesn't exist\n",
    "        direction='minimize',\n",
    "        pruner=optuna.pruners.MedianPruner(\n",
    "            n_startup_trials=5, \n",
    "            n_warmup_steps=50,\n",
    "            ), \n",
    "        load_if_exists=True, \n",
    "    )\n",
    "    \n",
    "    return study, objective_partial"
   ]
  },
  {
   "cell_type": "markdown",
   "metadata": {},
   "source": [
    "### hyperparameter tuning "
   ]
  },
  {
   "cell_type": "code",
   "execution_count": 21,
   "metadata": {},
   "outputs": [
    {
     "name": "stderr",
     "output_type": "stream",
     "text": [
      "[I 2023-12-08 22:02:10,364] Using an existing study with name 'hparam_study_13' instead of creating a new one.\n"
     ]
    },
    {
     "name": "stdout",
     "output_type": "stream",
     "text": [
      "Number of nodes: 36\n",
      "Number of edges: 180\n",
      "Node features shape: (36, 2)\n",
      "Edge features shape: (180, 1)\n",
      "Global features shape: (1, 1)\n"
     ]
    }
   ],
   "source": [
    "# get study\n",
    "study13, objective_partial = prepare_study(study_name=\"hparam_study_13\")"
   ]
  },
  {
   "cell_type": "code",
   "execution_count": 14,
   "metadata": {},
   "outputs": [
    {
     "name": "stderr",
     "output_type": "stream",
     "text": [
      "[I 2023-12-08 21:46:22,433] Trial 0 finished with value: 0.7255893349647522 and parameters: {'learning_rate': 0.00034446252948483, 'n_blocks': 3, 'dropout_rate': 0.14502811264372006, 'activation': 'relu', 'edge_mlp_1_power': 1, 'edge_mlp_2_power': 2, 'node_mlp_1_power': 6}. Best is trial 0 with value: 0.7255893349647522.\n",
      "[W 2023-12-08 21:59:26,337] Trial 1 failed with parameters: {'learning_rate': 0.0004068974819787106, 'n_blocks': 3, 'dropout_rate': 0.19502952548694075, 'activation': 'relu', 'edge_mlp_1_power': 1, 'edge_mlp_2_power': 1, 'node_mlp_1_power': 3} because of the following error: KeyboardInterrupt().\n",
      "Traceback (most recent call last):\n",
      "  File \"/Users/h.lu/Documents/_code/_research lorenz code/lorenzGNN/lorenzvenv/lib/python3.9/site-packages/optuna/study/_optimize.py\", line 200, in _run_trial\n",
      "    value_or_values = func(trial)\n",
      "  File \"/var/folders/py/716jgpq538x2wf_s8t__x9b80000gn/T/ipykernel_5672/3769017719.py\", line 64, in objective\n",
      "    state, train_metrics, eval_metrics_dict = train_and_evaluate_with_data(config=config, workdir=workdir, datasets=datasets, trial=trial)\n",
      "  File \"/Users/h.lu/Documents/_code/_research lorenz code/lorenzGNN/utils/jraph_training.py\", line 491, in train_and_evaluate_with_data\n",
      "    # graphs = jax.tree_util.tree_map(np.asarray, next(train_iter))\n",
      "  File \"<string>\", line 1, in <lambda>\n",
      "KeyboardInterrupt\n",
      "[W 2023-12-08 21:59:26,410] Trial 1 failed with value None.\n"
     ]
    },
    {
     "ename": "KeyboardInterrupt",
     "evalue": "",
     "output_type": "error",
     "traceback": [
      "\u001b[0;31m---------------------------------------------------------------------------\u001b[0m",
      "\u001b[0;31mKeyboardInterrupt\u001b[0m                         Traceback (most recent call last)",
      "\u001b[1;32m/Users/h.lu/Documents/_code/_research lorenz code/lorenzGNN/hyperparam_tuning_sandbox 13.ipynb Cell 13\u001b[0m line \u001b[0;36m1\n\u001b[0;32m----> <a href='vscode-notebook-cell:/Users/h.lu/Documents/_code/_research%20lorenz%20code/lorenzGNN/hyperparam_tuning_sandbox%2013.ipynb#X15sZmlsZQ%3D%3D?line=0'>1</a>\u001b[0m study13\u001b[39m.\u001b[39;49moptimize(objective_partial, \n\u001b[1;32m      <a href='vscode-notebook-cell:/Users/h.lu/Documents/_code/_research%20lorenz%20code/lorenzGNN/hyperparam_tuning_sandbox%2013.ipynb#X15sZmlsZQ%3D%3D?line=1'>2</a>\u001b[0m                 n_trials\u001b[39m=\u001b[39;49m\u001b[39m5\u001b[39;49m\u001b[39m-\u001b[39;49m\u001b[39mlen\u001b[39;49m(study13\u001b[39m.\u001b[39;49mtrials), \n\u001b[1;32m      <a href='vscode-notebook-cell:/Users/h.lu/Documents/_code/_research%20lorenz%20code/lorenzGNN/hyperparam_tuning_sandbox%2013.ipynb#X15sZmlsZQ%3D%3D?line=2'>3</a>\u001b[0m                 n_jobs\u001b[39m=\u001b[39;49m\u001b[39m1\u001b[39;49m)\n",
      "File \u001b[0;32m~/Documents/_code/_research lorenz code/lorenzGNN/lorenzvenv/lib/python3.9/site-packages/optuna/study/study.py:451\u001b[0m, in \u001b[0;36mStudy.optimize\u001b[0;34m(self, func, n_trials, timeout, n_jobs, catch, callbacks, gc_after_trial, show_progress_bar)\u001b[0m\n\u001b[1;32m    348\u001b[0m \u001b[39mdef\u001b[39;00m \u001b[39moptimize\u001b[39m(\n\u001b[1;32m    349\u001b[0m     \u001b[39mself\u001b[39m,\n\u001b[1;32m    350\u001b[0m     func: ObjectiveFuncType,\n\u001b[0;32m   (...)\u001b[0m\n\u001b[1;32m    357\u001b[0m     show_progress_bar: \u001b[39mbool\u001b[39m \u001b[39m=\u001b[39m \u001b[39mFalse\u001b[39;00m,\n\u001b[1;32m    358\u001b[0m ) \u001b[39m-\u001b[39m\u001b[39m>\u001b[39m \u001b[39mNone\u001b[39;00m:\n\u001b[1;32m    359\u001b[0m \u001b[39m    \u001b[39m\u001b[39m\"\"\"Optimize an objective function.\u001b[39;00m\n\u001b[1;32m    360\u001b[0m \n\u001b[1;32m    361\u001b[0m \u001b[39m    Optimization is done by choosing a suitable set of hyperparameter values from a given\u001b[39;00m\n\u001b[0;32m   (...)\u001b[0m\n\u001b[1;32m    449\u001b[0m \u001b[39m            If nested invocation of this method occurs.\u001b[39;00m\n\u001b[1;32m    450\u001b[0m \u001b[39m    \"\"\"\u001b[39;00m\n\u001b[0;32m--> 451\u001b[0m     _optimize(\n\u001b[1;32m    452\u001b[0m         study\u001b[39m=\u001b[39;49m\u001b[39mself\u001b[39;49m,\n\u001b[1;32m    453\u001b[0m         func\u001b[39m=\u001b[39;49mfunc,\n\u001b[1;32m    454\u001b[0m         n_trials\u001b[39m=\u001b[39;49mn_trials,\n\u001b[1;32m    455\u001b[0m         timeout\u001b[39m=\u001b[39;49mtimeout,\n\u001b[1;32m    456\u001b[0m         n_jobs\u001b[39m=\u001b[39;49mn_jobs,\n\u001b[1;32m    457\u001b[0m         catch\u001b[39m=\u001b[39;49m\u001b[39mtuple\u001b[39;49m(catch) \u001b[39mif\u001b[39;49;00m \u001b[39misinstance\u001b[39;49m(catch, Iterable) \u001b[39melse\u001b[39;49;00m (catch,),\n\u001b[1;32m    458\u001b[0m         callbacks\u001b[39m=\u001b[39;49mcallbacks,\n\u001b[1;32m    459\u001b[0m         gc_after_trial\u001b[39m=\u001b[39;49mgc_after_trial,\n\u001b[1;32m    460\u001b[0m         show_progress_bar\u001b[39m=\u001b[39;49mshow_progress_bar,\n\u001b[1;32m    461\u001b[0m     )\n",
      "File \u001b[0;32m~/Documents/_code/_research lorenz code/lorenzGNN/lorenzvenv/lib/python3.9/site-packages/optuna/study/_optimize.py:66\u001b[0m, in \u001b[0;36m_optimize\u001b[0;34m(study, func, n_trials, timeout, n_jobs, catch, callbacks, gc_after_trial, show_progress_bar)\u001b[0m\n\u001b[1;32m     64\u001b[0m \u001b[39mtry\u001b[39;00m:\n\u001b[1;32m     65\u001b[0m     \u001b[39mif\u001b[39;00m n_jobs \u001b[39m==\u001b[39m \u001b[39m1\u001b[39m:\n\u001b[0;32m---> 66\u001b[0m         _optimize_sequential(\n\u001b[1;32m     67\u001b[0m             study,\n\u001b[1;32m     68\u001b[0m             func,\n\u001b[1;32m     69\u001b[0m             n_trials,\n\u001b[1;32m     70\u001b[0m             timeout,\n\u001b[1;32m     71\u001b[0m             catch,\n\u001b[1;32m     72\u001b[0m             callbacks,\n\u001b[1;32m     73\u001b[0m             gc_after_trial,\n\u001b[1;32m     74\u001b[0m             reseed_sampler_rng\u001b[39m=\u001b[39;49m\u001b[39mFalse\u001b[39;49;00m,\n\u001b[1;32m     75\u001b[0m             time_start\u001b[39m=\u001b[39;49m\u001b[39mNone\u001b[39;49;00m,\n\u001b[1;32m     76\u001b[0m             progress_bar\u001b[39m=\u001b[39;49mprogress_bar,\n\u001b[1;32m     77\u001b[0m         )\n\u001b[1;32m     78\u001b[0m     \u001b[39melse\u001b[39;00m:\n\u001b[1;32m     79\u001b[0m         \u001b[39mif\u001b[39;00m n_jobs \u001b[39m==\u001b[39m \u001b[39m-\u001b[39m\u001b[39m1\u001b[39m:\n",
      "File \u001b[0;32m~/Documents/_code/_research lorenz code/lorenzGNN/lorenzvenv/lib/python3.9/site-packages/optuna/study/_optimize.py:163\u001b[0m, in \u001b[0;36m_optimize_sequential\u001b[0;34m(study, func, n_trials, timeout, catch, callbacks, gc_after_trial, reseed_sampler_rng, time_start, progress_bar)\u001b[0m\n\u001b[1;32m    160\u001b[0m         \u001b[39mbreak\u001b[39;00m\n\u001b[1;32m    162\u001b[0m \u001b[39mtry\u001b[39;00m:\n\u001b[0;32m--> 163\u001b[0m     frozen_trial \u001b[39m=\u001b[39m _run_trial(study, func, catch)\n\u001b[1;32m    164\u001b[0m \u001b[39mfinally\u001b[39;00m:\n\u001b[1;32m    165\u001b[0m     \u001b[39m# The following line mitigates memory problems that can be occurred in some\u001b[39;00m\n\u001b[1;32m    166\u001b[0m     \u001b[39m# environments (e.g., services that use computing containers such as GitHub Actions).\u001b[39;00m\n\u001b[1;32m    167\u001b[0m     \u001b[39m# Please refer to the following PR for further details:\u001b[39;00m\n\u001b[1;32m    168\u001b[0m     \u001b[39m# https://github.com/optuna/optuna/pull/325.\u001b[39;00m\n\u001b[1;32m    169\u001b[0m     \u001b[39mif\u001b[39;00m gc_after_trial:\n",
      "File \u001b[0;32m~/Documents/_code/_research lorenz code/lorenzGNN/lorenzvenv/lib/python3.9/site-packages/optuna/study/_optimize.py:251\u001b[0m, in \u001b[0;36m_run_trial\u001b[0;34m(study, func, catch)\u001b[0m\n\u001b[1;32m    244\u001b[0m         \u001b[39massert\u001b[39;00m \u001b[39mFalse\u001b[39;00m, \u001b[39m\"\u001b[39m\u001b[39mShould not reach.\u001b[39m\u001b[39m\"\u001b[39m\n\u001b[1;32m    246\u001b[0m \u001b[39mif\u001b[39;00m (\n\u001b[1;32m    247\u001b[0m     frozen_trial\u001b[39m.\u001b[39mstate \u001b[39m==\u001b[39m TrialState\u001b[39m.\u001b[39mFAIL\n\u001b[1;32m    248\u001b[0m     \u001b[39mand\u001b[39;00m func_err \u001b[39mis\u001b[39;00m \u001b[39mnot\u001b[39;00m \u001b[39mNone\u001b[39;00m\n\u001b[1;32m    249\u001b[0m     \u001b[39mand\u001b[39;00m \u001b[39mnot\u001b[39;00m \u001b[39misinstance\u001b[39m(func_err, catch)\n\u001b[1;32m    250\u001b[0m ):\n\u001b[0;32m--> 251\u001b[0m     \u001b[39mraise\u001b[39;00m func_err\n\u001b[1;32m    252\u001b[0m \u001b[39mreturn\u001b[39;00m frozen_trial\n",
      "File \u001b[0;32m~/Documents/_code/_research lorenz code/lorenzGNN/lorenzvenv/lib/python3.9/site-packages/optuna/study/_optimize.py:200\u001b[0m, in \u001b[0;36m_run_trial\u001b[0;34m(study, func, catch)\u001b[0m\n\u001b[1;32m    198\u001b[0m \u001b[39mwith\u001b[39;00m get_heartbeat_thread(trial\u001b[39m.\u001b[39m_trial_id, study\u001b[39m.\u001b[39m_storage):\n\u001b[1;32m    199\u001b[0m     \u001b[39mtry\u001b[39;00m:\n\u001b[0;32m--> 200\u001b[0m         value_or_values \u001b[39m=\u001b[39m func(trial)\n\u001b[1;32m    201\u001b[0m     \u001b[39mexcept\u001b[39;00m exceptions\u001b[39m.\u001b[39mTrialPruned \u001b[39mas\u001b[39;00m e:\n\u001b[1;32m    202\u001b[0m         \u001b[39m# TODO(mamu): Handle multi-objective cases.\u001b[39;00m\n\u001b[1;32m    203\u001b[0m         state \u001b[39m=\u001b[39m TrialState\u001b[39m.\u001b[39mPRUNED\n",
      "\u001b[1;32m/Users/h.lu/Documents/_code/_research lorenz code/lorenzGNN/hyperparam_tuning_sandbox 13.ipynb Cell 13\u001b[0m line \u001b[0;36m6\n\u001b[1;32m     <a href='vscode-notebook-cell:/Users/h.lu/Documents/_code/_research%20lorenz%20code/lorenzGNN/hyperparam_tuning_sandbox%2013.ipynb#X15sZmlsZQ%3D%3D?line=60'>61</a>\u001b[0m workdir\u001b[39m=\u001b[39mos\u001b[39m.\u001b[39mpath\u001b[39m.\u001b[39mjoin(CHECKPOINT_PATH, study_name, \u001b[39mf\u001b[39m\u001b[39m\"\u001b[39m\u001b[39mtrial_\u001b[39m\u001b[39m{\u001b[39;00mtrial\u001b[39m.\u001b[39mnumber\u001b[39m}\u001b[39;00m\u001b[39m\"\u001b[39m)\n\u001b[1;32m     <a href='vscode-notebook-cell:/Users/h.lu/Documents/_code/_research%20lorenz%20code/lorenzGNN/hyperparam_tuning_sandbox%2013.ipynb#X15sZmlsZQ%3D%3D?line=62'>63</a>\u001b[0m \u001b[39m# run training \u001b[39;00m\n\u001b[0;32m---> <a href='vscode-notebook-cell:/Users/h.lu/Documents/_code/_research%20lorenz%20code/lorenzGNN/hyperparam_tuning_sandbox%2013.ipynb#X15sZmlsZQ%3D%3D?line=63'>64</a>\u001b[0m state, train_metrics, eval_metrics_dict \u001b[39m=\u001b[39m train_and_evaluate_with_data(config\u001b[39m=\u001b[39;49mconfig, workdir\u001b[39m=\u001b[39;49mworkdir, datasets\u001b[39m=\u001b[39;49mdatasets, trial\u001b[39m=\u001b[39;49mtrial)\n\u001b[1;32m     <a href='vscode-notebook-cell:/Users/h.lu/Documents/_code/_research%20lorenz%20code/lorenzGNN/hyperparam_tuning_sandbox%2013.ipynb#X15sZmlsZQ%3D%3D?line=65'>66</a>\u001b[0m \u001b[39m# retrieve and return val loss (MSE)\u001b[39;00m\n\u001b[1;32m     <a href='vscode-notebook-cell:/Users/h.lu/Documents/_code/_research%20lorenz%20code/lorenzGNN/hyperparam_tuning_sandbox%2013.ipynb#X15sZmlsZQ%3D%3D?line=66'>67</a>\u001b[0m \u001b[39m# print(\"eval_metrics_dict['val'].loss\", eval_metrics_dict['val'].loss)\u001b[39;00m\n\u001b[1;32m     <a href='vscode-notebook-cell:/Users/h.lu/Documents/_code/_research%20lorenz%20code/lorenzGNN/hyperparam_tuning_sandbox%2013.ipynb#X15sZmlsZQ%3D%3D?line=67'>68</a>\u001b[0m \u001b[39m# print(\"eval_metrics_dict['val'].compute()['loss']\", eval_metrics_dict['val'].compute()['loss'])\u001b[39;00m\n\u001b[1;32m     <a href='vscode-notebook-cell:/Users/h.lu/Documents/_code/_research%20lorenz%20code/lorenzGNN/hyperparam_tuning_sandbox%2013.ipynb#X15sZmlsZQ%3D%3D?line=68'>69</a>\u001b[0m \u001b[39m# print()\u001b[39;00m\n\u001b[1;32m     <a href='vscode-notebook-cell:/Users/h.lu/Documents/_code/_research%20lorenz%20code/lorenzGNN/hyperparam_tuning_sandbox%2013.ipynb#X15sZmlsZQ%3D%3D?line=69'>70</a>\u001b[0m \u001b[39mreturn\u001b[39;00m eval_metrics_dict[\u001b[39m'\u001b[39m\u001b[39mval\u001b[39m\u001b[39m'\u001b[39m]\u001b[39m.\u001b[39mcompute()[\u001b[39m'\u001b[39m\u001b[39mloss\u001b[39m\u001b[39m'\u001b[39m]\n",
      "File \u001b[0;32m~/Documents/_code/_research lorenz code/lorenzGNN/utils/jraph_training.py:491\u001b[0m, in \u001b[0;36mtrain_and_evaluate_with_data\u001b[0;34m(config, workdir, datasets, trial)\u001b[0m\n\u001b[1;32m    488\u001b[0m \u001b[39m# Perform one step of training.\u001b[39;00m\n\u001b[1;32m    489\u001b[0m \u001b[39mwith\u001b[39;00m jax\u001b[39m.\u001b[39mprofiler\u001b[39m.\u001b[39mStepTraceAnnotation(\u001b[39m'\u001b[39m\u001b[39mtrain\u001b[39m\u001b[39m'\u001b[39m, step_num\u001b[39m=\u001b[39mstep):\n\u001b[1;32m    490\u001b[0m     \u001b[39m# graphs = jax.tree_util.tree_map(np.asarray, next(train_iter))\u001b[39;00m\n\u001b[0;32m--> 491\u001b[0m     state, metrics_update, _ \u001b[39m=\u001b[39m train_step(\n\u001b[1;32m    492\u001b[0m         state\u001b[39m=\u001b[39;49mstate, \n\u001b[1;32m    493\u001b[0m         n_rollout_steps\u001b[39m=\u001b[39;49mn_rollout_steps, \n\u001b[1;32m    494\u001b[0m         input_window_graphs\u001b[39m=\u001b[39;49minput_window_graphs, \n\u001b[1;32m    495\u001b[0m         target_window_graphs\u001b[39m=\u001b[39;49mtarget_window_graphs, \n\u001b[1;32m    496\u001b[0m         rngs\u001b[39m=\u001b[39;49m{\u001b[39m'\u001b[39;49m\u001b[39mdropout\u001b[39;49m\u001b[39m'\u001b[39;49m: dropout_rng},\n\u001b[1;32m    497\u001b[0m         pred_x1\u001b[39m=\u001b[39;49mpred_x1,\n\u001b[1;32m    498\u001b[0m         pred_x2\u001b[39m=\u001b[39;49mpred_x2,\n\u001b[1;32m    499\u001b[0m     )\n\u001b[1;32m    500\u001b[0m     \u001b[39mif\u001b[39;00m jnp\u001b[39m.\u001b[39misnan(metrics_update\u001b[39m.\u001b[39mloss\u001b[39m.\u001b[39mtotal):\n\u001b[1;32m    501\u001b[0m         \u001b[39m# TODO is it ok to raise the prune even if the pruner doesn't say should prune? \u001b[39;00m\n\u001b[1;32m    502\u001b[0m         logging\u001b[39m.\u001b[39mwarning(\u001b[39mf\u001b[39m\u001b[39m'\u001b[39m\u001b[39mloss is nan for step \u001b[39m\u001b[39m{\u001b[39;00mstep\u001b[39m}\u001b[39;00m\u001b[39m (in epoch \u001b[39m\u001b[39m{\u001b[39;00mepoch\u001b[39m}\u001b[39;00m\u001b[39m)\u001b[39m\u001b[39m'\u001b[39m)\n",
      "File \u001b[0;32m<string>:1\u001b[0m, in \u001b[0;36m<lambda>\u001b[0;34m(_cls, count, mu, nu)\u001b[0m\n",
      "\u001b[0;31mKeyboardInterrupt\u001b[0m: "
     ]
    }
   ],
   "source": [
    "study13.optimize(objective_partial, \n",
    "                n_trials=5-len(study13.trials), \n",
    "                n_jobs=1)"
   ]
  },
  {
   "cell_type": "markdown",
   "metadata": {},
   "source": [
    "restrict activation to just leaky_relu since we know that worked best"
   ]
  },
  {
   "cell_type": "code",
   "execution_count": 22,
   "metadata": {},
   "outputs": [
    {
     "name": "stderr",
     "output_type": "stream",
     "text": [
      "[I 2023-12-08 22:52:56,142] Trial 3 finished with value: 0.522697925567627 and parameters: {'learning_rate': 0.0009083317205736135, 'n_blocks': 5, 'dropout_rate': 0.03140123960411469, 'edge_mlp_1_power': 2, 'edge_mlp_2_power': 1, 'node_mlp_1_power': 3}. Best is trial 3 with value: 0.522697925567627.\n",
      "[I 2023-12-08 23:09:15,099] Trial 4 finished with value: 0.6420753598213196 and parameters: {'learning_rate': 0.0009020997227325296, 'n_blocks': 1, 'dropout_rate': 0.13378871299460265, 'edge_mlp_1_power': 2, 'edge_mlp_2_power': 1, 'node_mlp_1_power': 5}. Best is trial 3 with value: 0.522697925567627.\n"
     ]
    }
   ],
   "source": [
    "study13.optimize(objective_partial, \n",
    "                n_trials=5-len(study13.trials), \n",
    "                n_jobs=1)"
   ]
  },
  {
   "cell_type": "markdown",
   "metadata": {},
   "source": [
    "ok it's weird that we are occasionally still getting huge errors like in trial 0"
   ]
  },
  {
   "cell_type": "code",
   "execution_count": 23,
   "metadata": {},
   "outputs": [
    {
     "data": {
      "text/plain": [
       "[FrozenTrial(number=0, state=TrialState.COMPLETE, values=[0.7255893349647522], datetime_start=datetime.datetime(2023, 12, 8, 21, 7, 4, 345436), datetime_complete=datetime.datetime(2023, 12, 8, 21, 46, 22, 278917), params={'learning_rate': 0.00034446252948483, 'n_blocks': 3, 'dropout_rate': 0.14502811264372006, 'activation': 'relu', 'edge_mlp_1_power': 1, 'edge_mlp_2_power': 2, 'node_mlp_1_power': 6}, user_attrs={}, system_attrs={}, intermediate_values={0: 7.669472694396973, 5: 8.407955169677734, 10: 0.9251963496208191, 15: 0.7105982899665833, 20: 0.7259289622306824, 25: 0.7351808547973633, 30: 0.7290900945663452, 35: 0.7277955412864685, 40: 0.7036943435668945, 45: 0.7328064441680908, 50: 0.7129110097885132, 55: 0.7416166663169861, 60: 0.7237672805786133, 65: 0.756308913230896, 70: 0.720796525478363, 75: 0.73613041639328, 80: 0.7338652610778809, 85: 0.7686334252357483, 90: 0.7413269281387329, 95: 0.7322515249252319, 100: 0.725441575050354, 105: 0.715444028377533, 110: 0.744888961315155, 115: 0.7064691185951233, 120: 0.6486932635307312, 125: 0.7370272278785706, 130: 0.7193931341171265, 135: 0.7283573746681213, 140: 0.7322620749473572, 145: 0.727975606918335, 150: 0.7172040939331055, 155: 0.7268790006637573, 160: 0.7270563840866089, 165: 0.7303690910339355, 170: 0.7083907127380371, 175: 0.7110516428947449, 180: 0.7041124701499939, 185: 0.7334333062171936, 190: 0.7218260169029236, 195: 0.7098910808563232, 199: 0.7255893349647522}, distributions={'learning_rate': FloatDistribution(high=0.003, log=True, low=0.0003, step=None), 'n_blocks': IntDistribution(high=6, log=False, low=1, step=1), 'dropout_rate': FloatDistribution(high=0.2, log=False, low=0.0, step=None), 'activation': CategoricalDistribution(choices=('relu', 'elu', 'leaky_relu')), 'edge_mlp_1_power': IntDistribution(high=3, log=False, low=1, step=1), 'edge_mlp_2_power': IntDistribution(high=3, log=False, low=1, step=1), 'node_mlp_1_power': IntDistribution(high=6, log=False, low=1, step=1)}, trial_id=1, value=None),\n",
       " FrozenTrial(number=1, state=TrialState.FAIL, values=None, datetime_start=datetime.datetime(2023, 12, 8, 21, 46, 22, 496862), datetime_complete=datetime.datetime(2023, 12, 8, 21, 59, 26, 314471), params={'learning_rate': 0.0004068974819787106, 'n_blocks': 3, 'dropout_rate': 0.19502952548694075, 'activation': 'relu', 'edge_mlp_1_power': 1, 'edge_mlp_2_power': 1, 'node_mlp_1_power': 3}, user_attrs={}, system_attrs={}, intermediate_values={0: 0.9262884855270386, 5: 0.7829604744911194, 10: 0.7796928286552429, 15: 0.7742876410484314, 20: 0.7570285797119141, 25: 0.7673423886299133, 30: 0.7616235017776489, 35: 0.7703059911727905, 40: 0.7745281457901001, 45: 0.7715150713920593, 50: 0.7699514627456665, 55: 0.7765483260154724, 60: 0.76812344789505, 65: 0.7700930833816528, 70: 0.7659454345703125}, distributions={'learning_rate': FloatDistribution(high=0.003, log=True, low=0.0003, step=None), 'n_blocks': IntDistribution(high=6, log=False, low=1, step=1), 'dropout_rate': FloatDistribution(high=0.2, log=False, low=0.0, step=None), 'activation': CategoricalDistribution(choices=('relu', 'elu', 'leaky_relu')), 'edge_mlp_1_power': IntDistribution(high=3, log=False, low=1, step=1), 'edge_mlp_2_power': IntDistribution(high=3, log=False, low=1, step=1), 'node_mlp_1_power': IntDistribution(high=6, log=False, low=1, step=1)}, trial_id=2, value=None),\n",
       " FrozenTrial(number=2, state=TrialState.FAIL, values=None, datetime_start=datetime.datetime(2023, 12, 8, 22, 0, 52, 710669), datetime_complete=datetime.datetime(2023, 12, 8, 22, 0, 55, 648854), params={'learning_rate': 0.00030370597624113235, 'n_blocks': 2, 'dropout_rate': 0.19155038372699218, 'edge_mlp_1_power': 1, 'edge_mlp_2_power': 1, 'node_mlp_1_power': 4}, user_attrs={}, system_attrs={}, intermediate_values={}, distributions={'learning_rate': FloatDistribution(high=0.003, log=True, low=0.0003, step=None), 'n_blocks': IntDistribution(high=6, log=False, low=1, step=1), 'dropout_rate': FloatDistribution(high=0.2, log=False, low=0.0, step=None), 'edge_mlp_1_power': IntDistribution(high=3, log=False, low=1, step=1), 'edge_mlp_2_power': IntDistribution(high=3, log=False, low=1, step=1), 'node_mlp_1_power': IntDistribution(high=6, log=False, low=1, step=1)}, trial_id=3, value=None),\n",
       " FrozenTrial(number=3, state=TrialState.COMPLETE, values=[0.522697925567627], datetime_start=datetime.datetime(2023, 12, 8, 22, 2, 10, 506179), datetime_complete=datetime.datetime(2023, 12, 8, 22, 52, 56, 13822), params={'learning_rate': 0.0009083317205736135, 'n_blocks': 5, 'dropout_rate': 0.03140123960411469, 'edge_mlp_1_power': 2, 'edge_mlp_2_power': 1, 'node_mlp_1_power': 3}, user_attrs={}, system_attrs={}, intermediate_values={0: 0.9346689581871033, 5: 0.5692383050918579, 10: 0.5411072969436646, 15: 0.5170717835426331, 20: 0.5178993940353394, 25: 0.496484637260437, 30: 0.5220880508422852, 35: 0.5242626667022705, 40: 0.5291609764099121, 45: 0.5278580188751221, 50: 0.48225873708724976, 55: 0.529671311378479, 60: 0.5124863386154175, 65: 0.5124828815460205, 70: 0.5331206917762756, 75: 0.5231834053993225, 80: 0.5136280059814453, 85: 0.5306044220924377, 90: 0.518199622631073, 95: 0.5068057775497437, 100: 0.5025659799575806, 105: 0.498733788728714, 110: 0.5036799907684326, 115: 0.5144481062889099, 120: 0.5098037719726562, 125: 0.4999217092990875, 130: 0.5072070956230164, 135: 0.5147534608840942, 140: 0.4983835518360138, 145: 0.5253978967666626, 150: 0.4939548671245575, 155: 0.5169202089309692, 160: 0.5244489908218384, 165: 0.506439745426178, 170: 0.5127089023590088, 175: 0.5037558674812317, 180: 0.5050382614135742, 185: 0.5096645355224609, 190: 0.5054488182067871, 195: 0.5105733275413513, 199: 0.522697925567627}, distributions={'learning_rate': FloatDistribution(high=0.003, log=True, low=0.0003, step=None), 'n_blocks': IntDistribution(high=6, log=False, low=1, step=1), 'dropout_rate': FloatDistribution(high=0.2, log=False, low=0.0, step=None), 'edge_mlp_1_power': IntDistribution(high=3, log=False, low=1, step=1), 'edge_mlp_2_power': IntDistribution(high=3, log=False, low=1, step=1), 'node_mlp_1_power': IntDistribution(high=6, log=False, low=1, step=1)}, trial_id=4, value=None),\n",
       " FrozenTrial(number=4, state=TrialState.COMPLETE, values=[0.6420753598213196], datetime_start=datetime.datetime(2023, 12, 8, 22, 52, 56, 224937), datetime_complete=datetime.datetime(2023, 12, 8, 23, 9, 15, 29533), params={'learning_rate': 0.0009020997227325296, 'n_blocks': 1, 'dropout_rate': 0.13378871299460265, 'edge_mlp_1_power': 2, 'edge_mlp_2_power': 1, 'node_mlp_1_power': 5}, user_attrs={}, system_attrs={}, intermediate_values={0: 0.6848936080932617, 5: 0.6330420970916748, 10: 0.6354615688323975, 15: 0.62584388256073, 20: 0.6301079392433167, 25: 0.6357540488243103, 30: 0.643596351146698, 35: 0.6398271918296814, 40: 0.6219940781593323, 45: 0.6346181035041809, 50: 0.6398405432701111, 55: 0.6253675818443298, 60: 0.6352991461753845, 65: 0.6312833428382874, 70: 0.6430578231811523, 75: 0.6422838568687439, 80: 0.6287766695022583, 85: 0.6358663439750671, 90: 0.6459884643554688, 95: 0.6425865292549133, 100: 0.6460034847259521, 105: 0.6357870101928711, 110: 0.6359923481941223, 115: 0.6403868198394775, 120: 0.6454330086708069, 125: 0.6389421820640564, 130: 0.6424623131752014, 135: 0.6387996673583984, 140: 0.640131950378418, 145: 0.6352231502532959, 150: 0.6386659741401672, 155: 0.634600818157196, 160: 0.630797266960144, 165: 0.6430760025978088, 170: 0.6480857729911804, 175: 0.6355718374252319, 180: 0.6411687135696411, 185: 0.6440083980560303, 190: 0.6496950387954712, 195: 0.6397424936294556, 199: 0.6420753598213196}, distributions={'learning_rate': FloatDistribution(high=0.003, log=True, low=0.0003, step=None), 'n_blocks': IntDistribution(high=6, log=False, low=1, step=1), 'dropout_rate': FloatDistribution(high=0.2, log=False, low=0.0, step=None), 'edge_mlp_1_power': IntDistribution(high=3, log=False, low=1, step=1), 'edge_mlp_2_power': IntDistribution(high=3, log=False, low=1, step=1), 'node_mlp_1_power': IntDistribution(high=6, log=False, low=1, step=1)}, trial_id=5, value=None)]"
      ]
     },
     "execution_count": 23,
     "metadata": {},
     "output_type": "execute_result"
    }
   ],
   "source": [
    "study13.trials"
   ]
  },
  {
   "cell_type": "markdown",
   "metadata": {},
   "source": [
    "let's plot the best trial predictions so far"
   ]
  },
  {
   "cell_type": "code",
   "execution_count": 24,
   "metadata": {},
   "outputs": [],
   "source": [
    "datasets = create_dataset(get_data_config())"
   ]
  },
  {
   "cell_type": "code",
   "execution_count": 26,
   "metadata": {},
   "outputs": [
    {
     "ename": "KeyError",
     "evalue": "'optimizer'",
     "output_type": "error",
     "traceback": [
      "\u001b[0;31m---------------------------------------------------------------------------\u001b[0m",
      "\u001b[0;31mKeyError\u001b[0m                                  Traceback (most recent call last)",
      "\u001b[1;32m/Users/h.lu/Documents/_code/_research lorenz code/lorenzGNN/hyperparam_tuning_sandbox 13.ipynb Cell 20\u001b[0m line \u001b[0;36m2\n\u001b[1;32m      <a href='vscode-notebook-cell:/Users/h.lu/Documents/_code/_research%20lorenz%20code/lorenzGNN/hyperparam_tuning_sandbox%2013.ipynb#X23sZmlsZQ%3D%3D?line=0'>1</a>\u001b[0m plot_predictions(\n\u001b[0;32m----> <a href='vscode-notebook-cell:/Users/h.lu/Documents/_code/_research%20lorenz%20code/lorenzGNN/hyperparam_tuning_sandbox%2013.ipynb#X23sZmlsZQ%3D%3D?line=1'>2</a>\u001b[0m     config\u001b[39m=\u001b[39mget_best_trial_config(study\u001b[39m=\u001b[39;49mstudy13),\n\u001b[1;32m      <a href='vscode-notebook-cell:/Users/h.lu/Documents/_code/_research%20lorenz%20code/lorenzGNN/hyperparam_tuning_sandbox%2013.ipynb#X23sZmlsZQ%3D%3D?line=2'>3</a>\u001b[0m     workdir\u001b[39m=\u001b[39mget_best_trial_workdir(study\u001b[39m=\u001b[39mstudy13), \u001b[39m# for loading checkpoints \u001b[39;00m\n\u001b[1;32m      <a href='vscode-notebook-cell:/Users/h.lu/Documents/_code/_research%20lorenz%20code/lorenzGNN/hyperparam_tuning_sandbox%2013.ipynb#X23sZmlsZQ%3D%3D?line=3'>4</a>\u001b[0m     plot_ith_rollout_step\u001b[39m=\u001b[39m\u001b[39m0\u001b[39m, \u001b[39m# 0 indexed # for this study, we have a 4-step rollout \u001b[39;00m\n\u001b[1;32m      <a href='vscode-notebook-cell:/Users/h.lu/Documents/_code/_research%20lorenz%20code/lorenzGNN/hyperparam_tuning_sandbox%2013.ipynb#X23sZmlsZQ%3D%3D?line=4'>5</a>\u001b[0m     \u001b[39m# dataset,\u001b[39;00m\n\u001b[1;32m      <a href='vscode-notebook-cell:/Users/h.lu/Documents/_code/_research%20lorenz%20code/lorenzGNN/hyperparam_tuning_sandbox%2013.ipynb#X23sZmlsZQ%3D%3D?line=5'>6</a>\u001b[0m     \u001b[39m# preds,\u001b[39;00m\n\u001b[1;32m      <a href='vscode-notebook-cell:/Users/h.lu/Documents/_code/_research%20lorenz%20code/lorenzGNN/hyperparam_tuning_sandbox%2013.ipynb#X23sZmlsZQ%3D%3D?line=6'>7</a>\u001b[0m     \u001b[39m# timestep_duration,\u001b[39;00m\n\u001b[1;32m      <a href='vscode-notebook-cell:/Users/h.lu/Documents/_code/_research%20lorenz%20code/lorenzGNN/hyperparam_tuning_sandbox%2013.ipynb#X23sZmlsZQ%3D%3D?line=7'>8</a>\u001b[0m     \u001b[39m# n_rollout_steps,\u001b[39;00m\n\u001b[1;32m      <a href='vscode-notebook-cell:/Users/h.lu/Documents/_code/_research%20lorenz%20code/lorenzGNN/hyperparam_tuning_sandbox%2013.ipynb#X23sZmlsZQ%3D%3D?line=8'>9</a>\u001b[0m     \u001b[39m#  total_steps,\u001b[39;00m\n\u001b[1;32m     <a href='vscode-notebook-cell:/Users/h.lu/Documents/_code/_research%20lorenz%20code/lorenzGNN/hyperparam_tuning_sandbox%2013.ipynb#X23sZmlsZQ%3D%3D?line=9'>10</a>\u001b[0m     node\u001b[39m=\u001b[39m\u001b[39m0\u001b[39m, \u001b[39m# 0-indexed \u001b[39;00m\n\u001b[1;32m     <a href='vscode-notebook-cell:/Users/h.lu/Documents/_code/_research%20lorenz%20code/lorenzGNN/hyperparam_tuning_sandbox%2013.ipynb#X23sZmlsZQ%3D%3D?line=10'>11</a>\u001b[0m     plot_mode\u001b[39m=\u001b[39m\u001b[39m\"\u001b[39m\u001b[39mval\u001b[39m\u001b[39m\"\u001b[39m, \u001b[39m# i.e. \"train\"/\"val\"/\"test\"\u001b[39;00m\n\u001b[1;32m     <a href='vscode-notebook-cell:/Users/h.lu/Documents/_code/_research%20lorenz%20code/lorenzGNN/hyperparam_tuning_sandbox%2013.ipynb#X23sZmlsZQ%3D%3D?line=11'>12</a>\u001b[0m     datasets\u001b[39m=\u001b[39mdatasets,\n\u001b[1;32m     <a href='vscode-notebook-cell:/Users/h.lu/Documents/_code/_research%20lorenz%20code/lorenzGNN/hyperparam_tuning_sandbox%2013.ipynb#X23sZmlsZQ%3D%3D?line=12'>13</a>\u001b[0m     plot_days\u001b[39m=\u001b[39m\u001b[39m60\u001b[39m,\n\u001b[1;32m     <a href='vscode-notebook-cell:/Users/h.lu/Documents/_code/_research%20lorenz%20code/lorenzGNN/hyperparam_tuning_sandbox%2013.ipynb#X23sZmlsZQ%3D%3D?line=13'>14</a>\u001b[0m )\n",
      "File \u001b[0;32m~/Documents/_code/_research lorenz code/lorenzGNN/utils/hyperparam_tuning.py:145\u001b[0m, in \u001b[0;36mget_best_trial_config\u001b[0;34m(study)\u001b[0m\n\u001b[1;32m    142\u001b[0m best_trial_config \u001b[39m=\u001b[39m dataset_config\n\u001b[1;32m    144\u001b[0m \u001b[39m# Optimizer.\u001b[39;00m\n\u001b[0;32m--> 145\u001b[0m best_trial_config\u001b[39m.\u001b[39moptimizer \u001b[39m=\u001b[39m study\u001b[39m.\u001b[39;49mbest_params[\u001b[39m'\u001b[39;49m\u001b[39moptimizer\u001b[39;49m\u001b[39m'\u001b[39;49m]\n\u001b[1;32m    146\u001b[0m best_trial_config\u001b[39m.\u001b[39mlearning_rate \u001b[39m=\u001b[39m study\u001b[39m.\u001b[39mbest_params[\u001b[39m'\u001b[39m\u001b[39mlearning_rate\u001b[39m\u001b[39m'\u001b[39m]\n\u001b[1;32m    147\u001b[0m \u001b[39mif\u001b[39;00m best_trial_config\u001b[39m.\u001b[39moptimizer \u001b[39m==\u001b[39m \u001b[39m\"\u001b[39m\u001b[39msgd\u001b[39m\u001b[39m\"\u001b[39m:\n",
      "\u001b[0;31mKeyError\u001b[0m: 'optimizer'"
     ]
    }
   ],
   "source": [
    "plot_predictions(\n",
    "    config=get_best_trial_config(study=study13),\n",
    "    workdir=get_best_trial_workdir(study=study13), # for loading checkpoints \n",
    "    plot_ith_rollout_step=0, # 0 indexed # for this study, we have a 4-step rollout \n",
    "    # dataset,\n",
    "    # preds,\n",
    "    # timestep_duration,\n",
    "    # n_rollout_steps,\n",
    "    #  total_steps,\n",
    "    node=0, # 0-indexed \n",
    "    plot_mode=\"val\", # i.e. \"train\"/\"val\"/\"test\"\n",
    "    datasets=datasets,\n",
    "    plot_days=60,\n",
    ")"
   ]
  },
  {
   "cell_type": "code",
   "execution_count": null,
   "metadata": {},
   "outputs": [],
   "source": [
    "plot_predictions(\n",
    "    config=get_best_trial_config(study=study13),\n",
    "    workdir=get_best_trial_workdir(study=study13), # for loading checkpoints \n",
    "    plot_ith_rollout_step=0, # 0 indexed # for this study, we have a 4-step rollout \n",
    "    # dataset,\n",
    "    # preds,\n",
    "    # timestep_duration,\n",
    "    # n_rollout_steps,\n",
    "    #  total_steps,\n",
    "    node=0, # 0-indexed \n",
    "    plot_mode=\"train\", # i.e. \"train\"/\"val\"/\"test\"\n",
    "    datasets=datasets,\n",
    "    plot_days=60,\n",
    ")"
   ]
  },
  {
   "cell_type": "markdown",
   "metadata": {},
   "source": [
    "visualize tuning and loss landscape"
   ]
  },
  {
   "cell_type": "code",
   "execution_count": null,
   "metadata": {},
   "outputs": [],
   "source": [
    "fig = optuna.visualization.plot_intermediate_values(study13)\n",
    "fig.show()"
   ]
  },
  {
   "cell_type": "code",
   "execution_count": null,
   "metadata": {},
   "outputs": [],
   "source": [
    "# plot the estimated accuracy surface over hyperparameters:\n",
    "fig = optuna.visualization.plot_contour(study13, params=['learning_rate', 'dropout_rate'])\n",
    "fig.show()"
   ]
  },
  {
   "cell_type": "code",
   "execution_count": null,
   "metadata": {},
   "outputs": [],
   "source": [
    "# plot the estimated accuracy surface over hyperparameters:\n",
    "fig = optuna.visualization.plot_contour(study13, params=['learning_rate', 'node_mlp_1_power'])\n",
    "fig.show()"
   ]
  },
  {
   "cell_type": "code",
   "execution_count": 28,
   "metadata": {},
   "outputs": [
    {
     "name": "stderr",
     "output_type": "stream",
     "text": [
      "[I 2023-12-09 00:07:25,437] Trial 6 finished with value: 0.6111515760421753 and parameters: {'learning_rate': 0.0025220515143415056, 'n_blocks': 1, 'dropout_rate': 0.11863238514538246, 'edge_mlp_1_power': 3, 'edge_mlp_2_power': 1, 'node_mlp_1_power': 5}. Best is trial 3 with value: 0.522697925567627.\n",
      "[I 2023-12-09 08:56:47,306] Trial 7 finished with value: 0.5996211767196655 and parameters: {'learning_rate': 0.0006209458222331137, 'n_blocks': 3, 'dropout_rate': 0.07086806451335935, 'edge_mlp_1_power': 1, 'edge_mlp_2_power': 3, 'node_mlp_1_power': 4}. Best is trial 3 with value: 0.522697925567627.\n",
      "[I 2023-12-09 10:04:51,498] Trial 8 finished with value: 0.49293312430381775 and parameters: {'learning_rate': 0.000353045843679119, 'n_blocks': 5, 'dropout_rate': 0.012070411228506696, 'edge_mlp_1_power': 1, 'edge_mlp_2_power': 2, 'node_mlp_1_power': 2}. Best is trial 8 with value: 0.49293312430381775.\n",
      "[I 2023-12-09 10:49:39,217] Trial 9 finished with value: 0.5516920685768127 and parameters: {'learning_rate': 0.0005294864256381015, 'n_blocks': 4, 'dropout_rate': 0.0735122579567663, 'edge_mlp_1_power': 3, 'edge_mlp_2_power': 3, 'node_mlp_1_power': 3}. Best is trial 8 with value: 0.49293312430381775.\n",
      "[I 2023-12-09 11:34:26,458] Trial 10 finished with value: 0.5389179587364197 and parameters: {'learning_rate': 0.00045997288975223907, 'n_blocks': 3, 'dropout_rate': 0.08527935594630974, 'edge_mlp_1_power': 3, 'edge_mlp_2_power': 3, 'node_mlp_1_power': 4}. Best is trial 8 with value: 0.49293312430381775.\n",
      "WARNING:absl:pruning trial with avg val loss 0.7146059274673462 after epoch 50\n",
      "[I 2023-12-09 11:39:34,799] Trial 11 pruned. \n",
      "[I 2023-12-09 12:12:13,509] Trial 12 finished with value: 0.5851666927337646 and parameters: {'learning_rate': 0.0014478626853350043, 'n_blocks': 3, 'dropout_rate': 0.10595103778012485, 'edge_mlp_1_power': 3, 'edge_mlp_2_power': 1, 'node_mlp_1_power': 6}. Best is trial 8 with value: 0.49293312430381775.\n",
      "WARNING:absl:pruning trial with avg val loss 0.5551674365997314 after epoch 55\n",
      "[I 2023-12-09 12:24:27,217] Trial 13 pruned. \n",
      "[I 2023-12-09 12:58:04,822] Trial 14 finished with value: 0.5361315011978149 and parameters: {'learning_rate': 0.0006904809278351807, 'n_blocks': 5, 'dropout_rate': 0.01611394576992928, 'edge_mlp_1_power': 2, 'edge_mlp_2_power': 2, 'node_mlp_1_power': 1}. Best is trial 8 with value: 0.49293312430381775.\n",
      "[I 2023-12-09 13:40:26,431] Trial 15 finished with value: 0.5543135404586792 and parameters: {'learning_rate': 0.0013194032399272428, 'n_blocks': 6, 'dropout_rate': 0.032400676361837445, 'edge_mlp_1_power': 2, 'edge_mlp_2_power': 1, 'node_mlp_1_power': 2}. Best is trial 8 with value: 0.49293312430381775.\n",
      "WARNING:absl:pruning trial with avg val loss 0.5497676134109497 after epoch 55\n",
      "[I 2023-12-09 13:51:30,079] Trial 16 pruned. \n",
      "WARNING:absl:pruning trial with avg val loss 0.7874446511268616 after epoch 50\n",
      "[I 2023-12-09 14:03:38,676] Trial 17 pruned. \n",
      "[I 2023-12-09 14:42:07,673] Trial 18 finished with value: 0.3789983093738556 and parameters: {'learning_rate': 0.0007157662165381097, 'n_blocks': 4, 'dropout_rate': 0.00470134023102561, 'edge_mlp_1_power': 2, 'edge_mlp_2_power': 2, 'node_mlp_1_power': 3}. Best is trial 18 with value: 0.3789983093738556.\n",
      "[I 2023-12-09 15:19:39,214] Trial 19 finished with value: 0.4386754333972931 and parameters: {'learning_rate': 0.0004181014837591125, 'n_blocks': 4, 'dropout_rate': 0.001542849493426729, 'edge_mlp_1_power': 1, 'edge_mlp_2_power': 2, 'node_mlp_1_power': 2}. Best is trial 18 with value: 0.3789983093738556.\n",
      "[I 2023-12-09 16:02:18,161] Trial 20 finished with value: 0.43087098002433777 and parameters: {'learning_rate': 0.000667967684743269, 'n_blocks': 4, 'dropout_rate': 0.0007851330476198667, 'edge_mlp_1_power': 2, 'edge_mlp_2_power': 2, 'node_mlp_1_power': 1}. Best is trial 18 with value: 0.3789983093738556.\n",
      "WARNING:absl:pruning trial with avg val loss 0.596291720867157 after epoch 50\n",
      "[I 2023-12-09 16:08:27,946] Trial 21 pruned. \n",
      "[I 2023-12-09 17:01:34,617] Trial 22 finished with value: 0.49951475858688354 and parameters: {'learning_rate': 0.0005505126316046143, 'n_blocks': 4, 'dropout_rate': 0.05152347098601093, 'edge_mlp_1_power': 2, 'edge_mlp_2_power': 2, 'node_mlp_1_power': 4}. Best is trial 18 with value: 0.3789983093738556.\n",
      "[I 2023-12-09 17:45:04,999] Trial 23 finished with value: 0.47849714756011963 and parameters: {'learning_rate': 0.0012396443487692646, 'n_blocks': 2, 'dropout_rate': 0.0010712367338586472, 'edge_mlp_1_power': 2, 'edge_mlp_2_power': 3, 'node_mlp_1_power': 1}. Best is trial 18 with value: 0.3789983093738556.\n",
      "[I 2023-12-09 18:23:50,092] Trial 24 finished with value: 0.3734220564365387 and parameters: {'learning_rate': 0.0004297964136055143, 'n_blocks': 4, 'dropout_rate': 0.0014763357549942362, 'edge_mlp_1_power': 2, 'edge_mlp_2_power': 2, 'node_mlp_1_power': 2}. Best is trial 24 with value: 0.3734220564365387.\n",
      "[I 2023-12-09 18:55:53,883] Trial 25 finished with value: 0.4750516712665558 and parameters: {'learning_rate': 0.0007195094182184234, 'n_blocks': 4, 'dropout_rate': 0.026836190901815295, 'edge_mlp_1_power': 2, 'edge_mlp_2_power': 2, 'node_mlp_1_power': 3}. Best is trial 24 with value: 0.3734220564365387.\n",
      "[I 2023-12-09 19:31:21,943] Trial 26 finished with value: 0.4988236427307129 and parameters: {'learning_rate': 0.0005823626567550775, 'n_blocks': 4, 'dropout_rate': 0.023018152104613655, 'edge_mlp_1_power': 2, 'edge_mlp_2_power': 2, 'node_mlp_1_power': 2}. Best is trial 24 with value: 0.3734220564365387.\n",
      "WARNING:absl:pruning trial with avg val loss 0.5466497540473938 after epoch 50\n",
      "[I 2023-12-09 19:37:34,815] Trial 27 pruned. \n",
      "[I 2023-12-09 20:16:24,415] Trial 28 finished with value: 0.41695186495780945 and parameters: {'learning_rate': 0.0003975234925383209, 'n_blocks': 4, 'dropout_rate': 0.0170999379489096, 'edge_mlp_1_power': 2, 'edge_mlp_2_power': 2, 'node_mlp_1_power': 3}. Best is trial 24 with value: 0.3734220564365387.\n",
      "[I 2023-12-09 20:53:26,254] Trial 29 finished with value: 0.4332788586616516 and parameters: {'learning_rate': 0.0003917177360723184, 'n_blocks': 3, 'dropout_rate': 0.019224489114560425, 'edge_mlp_1_power': 2, 'edge_mlp_2_power': 3, 'node_mlp_1_power': 3}. Best is trial 24 with value: 0.3734220564365387.\n"
     ]
    }
   ],
   "source": [
    "study13.optimize(objective_partial, \n",
    "                n_trials=50-len(study13.trials), \n",
    "                n_jobs=1)"
   ]
  },
  {
   "cell_type": "markdown",
   "metadata": {},
   "source": [
    "plot best trial predictions"
   ]
  },
  {
   "cell_type": "code",
   "execution_count": null,
   "metadata": {},
   "outputs": [],
   "source": [
    "plot_predictions(\n",
    "    config=get_best_trial_config(study=study13),\n",
    "    workdir=get_best_trial_workdir(study=study13), # for loading checkpoints \n",
    "    plot_ith_rollout_step=0, # 0 indexed # for this study, we have a 4-step rollout \n",
    "    # dataset,\n",
    "    # preds,\n",
    "    # timestep_duration,\n",
    "    # n_rollout_steps,\n",
    "    #  total_steps,\n",
    "    node=0, # 0-indexed \n",
    "    plot_mode=\"val\", # i.e. \"train\"/\"val\"/\"test\"\n",
    "    datasets=datasets,\n",
    "    plot_all=False, # if false, only plot the first 100 \n",
    ")"
   ]
  },
  {
   "cell_type": "code",
   "execution_count": null,
   "metadata": {},
   "outputs": [],
   "source": [
    "plot_predictions(\n",
    "    config=get_best_trial_config(study=study13),\n",
    "    workdir=get_best_trial_workdir(study=study13), # for loading checkpoints \n",
    "    plot_ith_rollout_step=3, # 0 indexed # for this study, we have a 4-step rollout \n",
    "    # dataset,\n",
    "    # preds,\n",
    "    # timestep_duration,\n",
    "    # n_rollout_steps,\n",
    "    #  total_steps,\n",
    "    node=0, # 0-indexed \n",
    "    plot_mode=\"val\", # i.e. \"train\"/\"val\"/\"test\"\n",
    "    datasets=datasets,\n",
    "    plot_all=False, # if false, only plot the first 100 \n",
    ")"
   ]
  },
  {
   "cell_type": "markdown",
   "metadata": {},
   "source": [
    "visualize trials excluding the really bad ones"
   ]
  },
  {
   "cell_type": "code",
   "execution_count": null,
   "metadata": {},
   "outputs": [],
   "source": [
    "study_vis = remove_bad_trials(study13)"
   ]
  },
  {
   "cell_type": "code",
   "execution_count": null,
   "metadata": {},
   "outputs": [],
   "source": [
    "fig = optuna.visualization.plot_intermediate_values(study_vis)\n",
    "fig.show()"
   ]
  },
  {
   "cell_type": "code",
   "execution_count": null,
   "metadata": {},
   "outputs": [],
   "source": [
    "# plot the estimated accuracy surface over hyperparameters:\n",
    "fig = optuna.visualization.plot_contour(study_vis, params=['learning_rate', 'dropout_rate'])\n",
    "fig.show()"
   ]
  },
  {
   "cell_type": "code",
   "execution_count": null,
   "metadata": {},
   "outputs": [],
   "source": [
    "# plot the estimated accuracy surface over hyperparameters:\n",
    "fig = optuna.visualization.plot_contour(study_vis, params=['learning_rate', 'edge_mlp_1_power'])\n",
    "fig.show()"
   ]
  },
  {
   "cell_type": "code",
   "execution_count": null,
   "metadata": {},
   "outputs": [],
   "source": [
    "# plot the estimated accuracy surface over hyperparameters:\n",
    "fig = optuna.visualization.plot_contour(study_vis, params=['learning_rate', 'node_mlp_1_power'])\n",
    "fig.show()"
   ]
  },
  {
   "cell_type": "code",
   "execution_count": null,
   "metadata": {},
   "outputs": [],
   "source": [
    "# plot the estimated accuracy surface over hyperparameters:\n",
    "fig = optuna.visualization.plot_contour(study_vis, params=['learning_rate', 'optimizer'])\n",
    "\n",
    "fig.show()"
   ]
  },
  {
   "cell_type": "code",
   "execution_count": null,
   "metadata": {},
   "outputs": [],
   "source": [
    "# plot the estimated accuracy surface over hyperparameters:\n",
    "fig = optuna.visualization.plot_contour(study_vis, params=['optimizer', 'activation'])\n",
    "fig.show()"
   ]
  },
  {
   "cell_type": "code",
   "execution_count": null,
   "metadata": {},
   "outputs": [],
   "source": [
    "# plot the estimated accuracy surface over hyperparameters:\n",
    "fig = optuna.visualization.plot_contour(study_vis, params=['activation', 'node_mlp_1_power'])\n",
    "fig.show()"
   ]
  },
  {
   "cell_type": "code",
   "execution_count": null,
   "metadata": {},
   "outputs": [],
   "source": [
    "study13.optimize(objective_partial, \n",
    "                n_trials=100-len(study13.trials), \n",
    "                n_jobs=1)"
   ]
  },
  {
   "cell_type": "code",
   "execution_count": null,
   "metadata": {},
   "outputs": [],
   "source": [
    "study13.optimize(objective_partial, \n",
    "                n_trials=200-len(study13.trials), \n",
    "                n_jobs=1)"
   ]
  },
  {
   "cell_type": "markdown",
   "metadata": {},
   "source": [
    "plot best trial predictions"
   ]
  },
  {
   "cell_type": "code",
   "execution_count": null,
   "metadata": {},
   "outputs": [],
   "source": [
    "plot_predictions(\n",
    "    config=get_best_trial_config(study=study13),\n",
    "    workdir=get_best_trial_workdir(study=study13), # for loading checkpoints \n",
    "    plot_ith_rollout_step=0, # 0 indexed # for this study, we have a 4-step rollout \n",
    "    # dataset,\n",
    "    # preds,\n",
    "    # timestep_duration,\n",
    "    # n_rollout_steps,\n",
    "    #  total_steps,\n",
    "    node=0, # 0-indexed \n",
    "    plot_mode=\"val\", # i.e. \"train\"/\"val\"/\"test\"\n",
    "    datasets=datasets,\n",
    "    plot_all=False, # if false, only plot the first 100 \n",
    ")"
   ]
  },
  {
   "cell_type": "markdown",
   "metadata": {},
   "source": [
    "visualize trials excluding the really bad ones"
   ]
  },
  {
   "cell_type": "code",
   "execution_count": null,
   "metadata": {},
   "outputs": [],
   "source": [
    "study_vis = remove_bad_trials(study13)"
   ]
  },
  {
   "cell_type": "code",
   "execution_count": null,
   "metadata": {},
   "outputs": [],
   "source": [
    "study_vis.trials"
   ]
  },
  {
   "cell_type": "code",
   "execution_count": null,
   "metadata": {},
   "outputs": [],
   "source": [
    "fig = optuna.visualization.plot_intermediate_values(study_vis)\n",
    "fig.show()"
   ]
  },
  {
   "cell_type": "code",
   "execution_count": null,
   "metadata": {},
   "outputs": [],
   "source": [
    "# plot the estimated accuracy surface over hyperparameters:\n",
    "fig = optuna.visualization.plot_contour(study_vis, params=['learning_rate', 'dropout_rate'])\n",
    "fig.show()"
   ]
  },
  {
   "cell_type": "code",
   "execution_count": null,
   "metadata": {},
   "outputs": [],
   "source": [
    "# plot the estimated accuracy surface over hyperparameters:\n",
    "fig = optuna.visualization.plot_contour(study_vis, params=['learning_rate', 'edge_mlp_1_power'])\n",
    "fig.show()"
   ]
  },
  {
   "cell_type": "code",
   "execution_count": null,
   "metadata": {},
   "outputs": [],
   "source": [
    "# plot the estimated accuracy surface over hyperparameters:\n",
    "fig = optuna.visualization.plot_contour(study_vis, params=['learning_rate', 'node_mlp_1_power'])\n",
    "fig.show()"
   ]
  },
  {
   "cell_type": "code",
   "execution_count": null,
   "metadata": {},
   "outputs": [],
   "source": [
    "# plot the estimated accuracy surface over hyperparameters:\n",
    "fig = optuna.visualization.plot_contour(study_vis, params=['learning_rate', 'optimizer'])\n",
    "\n",
    "fig.show()"
   ]
  },
  {
   "cell_type": "code",
   "execution_count": null,
   "metadata": {},
   "outputs": [],
   "source": [
    "# plot the estimated accuracy surface over hyperparameters:\n",
    "fig = optuna.visualization.plot_contour(study_vis, params=['optimizer', 'activation'])\n",
    "fig.show()"
   ]
  },
  {
   "cell_type": "code",
   "execution_count": null,
   "metadata": {},
   "outputs": [],
   "source": [
    "# plot the estimated accuracy surface over hyperparameters:\n",
    "fig = optuna.visualization.plot_contour(study_vis, params=['activation', 'node_mlp_1_power'])\n",
    "fig.show()"
   ]
  },
  {
   "cell_type": "code",
   "execution_count": null,
   "metadata": {},
   "outputs": [],
   "source": [
    "study13.optimize(objective_partial, \n",
    "                n_trials=200-len(study13.trials), \n",
    "                n_jobs=1)"
   ]
  },
  {
   "cell_type": "code",
   "execution_count": null,
   "metadata": {},
   "outputs": [],
   "source": [
    "plot_predictions(\n",
    "    config=get_best_trial_config(study=study13),\n",
    "    workdir=get_best_trial_workdir(study=study13), # for loading checkpoints \n",
    "    plot_ith_rollout_step=0, # 0 indexed # for this study, we have a 4-step rollout \n",
    "    # dataset,\n",
    "    # preds,\n",
    "    # timestep_duration,\n",
    "    # n_rollout_steps,\n",
    "    #  total_steps,\n",
    "    node=0, # 0-indexed \n",
    "    plot_mode=\"val\", # i.e. \"train\"/\"val\"/\"test\"\n",
    "    datasets=datasets,\n",
    "    plot_all=False, # if false, only plot the first 100 \n",
    ")"
   ]
  },
  {
   "cell_type": "code",
   "execution_count": null,
   "metadata": {},
   "outputs": [],
   "source": [
    "study_vis = remove_bad_trials(study13)"
   ]
  },
  {
   "cell_type": "code",
   "execution_count": null,
   "metadata": {},
   "outputs": [],
   "source": [
    "study_vis.trials"
   ]
  },
  {
   "cell_type": "code",
   "execution_count": null,
   "metadata": {},
   "outputs": [],
   "source": [
    "fig = optuna.visualization.plot_intermediate_values(study_vis)\n",
    "fig.show()"
   ]
  },
  {
   "cell_type": "code",
   "execution_count": null,
   "metadata": {},
   "outputs": [],
   "source": [
    "# plot the estimated accuracy surface over hyperparameters:\n",
    "fig = optuna.visualization.plot_contour(study_vis)\n",
    "fig.show()"
   ]
  },
  {
   "cell_type": "code",
   "execution_count": null,
   "metadata": {},
   "outputs": [],
   "source": []
  }
 ],
 "metadata": {
  "kernelspec": {
   "display_name": "lorenzvenv",
   "language": "python",
   "name": "python3"
  },
  "language_info": {
   "codemirror_mode": {
    "name": "ipython",
    "version": 3
   },
   "file_extension": ".py",
   "mimetype": "text/x-python",
   "name": "python",
   "nbconvert_exporter": "python",
   "pygments_lexer": "ipython3",
   "version": "3.9.17"
  }
 },
 "nbformat": 4,
 "nbformat_minor": 2
}
