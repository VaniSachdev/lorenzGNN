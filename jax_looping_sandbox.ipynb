{
 "cells": [
  {
   "attachments": {},
   "cell_type": "markdown",
   "metadata": {},
   "source": [
    "### imports"
   ]
  },
  {
   "cell_type": "code",
   "execution_count": 1,
   "metadata": {},
   "outputs": [],
   "source": [
    "# ipython extension to autoreload imported modules so that any changes will be up to date before running code in this nb\n",
    "%load_ext autoreload \n",
    "%autoreload 2"
   ]
  },
  {
   "cell_type": "code",
   "execution_count": 4,
   "metadata": {},
   "outputs": [],
   "source": [
    "import jax.numpy as jnp\n",
    "from jax import lax, jit\n",
    "from jax.test_util import check_grads\n",
    "\n"
   ]
  },
  {
   "attachments": {},
   "cell_type": "markdown",
   "metadata": {},
   "source": [
    "### body"
   ]
  },
  {
   "cell_type": "code",
   "execution_count": 54,
   "metadata": {},
   "outputs": [],
   "source": [
    "@jit\n",
    "def scan_fun(x, y):\n",
    "    # A loop using scan, note how I access y within the body\n",
    "    n = x.shape[0]\n",
    "\n",
    "    def body(carry, x):\n",
    "        print(type(carry))\n",
    "        # print(carry)\n",
    "        curr, i = carry\n",
    "        print('type(curr)', type(curr))\n",
    "        print('type(i)', type(i))\n",
    "        print('curr', curr)\n",
    "        print('i', i)\n",
    "        print('i+1', i+1)\n",
    "        print('x[i]', x[i])\n",
    "        print('curr + x[i]', curr + x[i])\n",
    "\n",
    "        return (curr + x[i], i+1), None # next state, x? \n",
    "\n",
    "    init_curr = 10.\n",
    "    init_i = 20\n",
    "    (res, this_is_val), this_is_none = lax.scan(body, (init_curr, init_i), x) \n",
    "    # f = body, \n",
    "    # init = (0., 0), i.e. carry = 0., x = 0?, \n",
    "    # xs = None, length=None, reverse=False, unroll=1\n",
    "\n",
    "    return (res, this_is_val), this_is_none\n",
    "    return res# / n\n",
    "\n",
    "@jit\n",
    "def loop_fun(x, y):\n",
    "    # A loop using fori_loop, note how I access both x and y within the body\n",
    "    n = x.shape[0]\n",
    "\n",
    "    def body(i, curr): \n",
    "        return curr + x[i]\n",
    "\n",
    "    return lax.fori_loop(0, n, body, 0.)# / n\n",
    "\n"
   ]
  },
  {
   "cell_type": "code",
   "execution_count": 55,
   "metadata": {},
   "outputs": [],
   "source": [
    "n = 50\n",
    "m = 150\n",
    "x = jnp.arange(n, dtype=jnp.float32)\n",
    "y = jnp.arange(m, step=2., dtype=jnp.float32)"
   ]
  },
  {
   "cell_type": "code",
   "execution_count": 56,
   "metadata": {},
   "outputs": [
    {
     "data": {
      "text/plain": [
       "Array([ 0.,  1.,  2.,  3.,  4.,  5.,  6.,  7.,  8.,  9., 10., 11., 12.,\n",
       "       13., 14., 15., 16., 17., 18., 19., 20., 21., 22., 23., 24., 25.,\n",
       "       26., 27., 28., 29., 30., 31., 32., 33., 34., 35., 36., 37., 38.,\n",
       "       39., 40., 41., 42., 43., 44., 45., 46., 47., 48., 49.],      dtype=float32)"
      ]
     },
     "execution_count": 56,
     "metadata": {},
     "output_type": "execute_result"
    }
   ],
   "source": [
    "x"
   ]
  },
  {
   "cell_type": "code",
   "execution_count": 57,
   "metadata": {},
   "outputs": [
    {
     "data": {
      "text/plain": [
       "Array(1225., dtype=float32)"
      ]
     },
     "execution_count": 57,
     "metadata": {},
     "output_type": "execute_result"
    }
   ],
   "source": [
    "jnp.sum(x)"
   ]
  },
  {
   "cell_type": "code",
   "execution_count": 58,
   "metadata": {},
   "outputs": [
    {
     "name": "stdout",
     "output_type": "stream",
     "text": [
      "<class 'tuple'>\n",
      "type(curr) <class 'jax._src.interpreters.partial_eval.DynamicJaxprTracer'>\n",
      "type(i) <class 'jax._src.interpreters.partial_eval.DynamicJaxprTracer'>\n",
      "curr Traced<ShapedArray(float32[], weak_type=True)>with<DynamicJaxprTrace(level=2/0)>\n",
      "i Traced<ShapedArray(int32[], weak_type=True)>with<DynamicJaxprTrace(level=2/0)>\n",
      "i+1 Traced<ShapedArray(int32[], weak_type=True)>with<DynamicJaxprTrace(level=2/0)>\n"
     ]
    },
    {
     "ename": "IndexError",
     "evalue": "Too many indices for array: 1 non-None/Ellipsis indices for dim 0.",
     "output_type": "error",
     "traceback": [
      "\u001b[0;31m---------------------------------------------------------------------------\u001b[0m",
      "\u001b[0;31mIndexError\u001b[0m                                Traceback (most recent call last)",
      "Cell \u001b[0;32mIn[58], line 1\u001b[0m\n\u001b[0;32m----> 1\u001b[0m scan_fun(x, y)\n",
      "    \u001b[0;31m[... skipping hidden 12 frame]\u001b[0m\n",
      "Cell \u001b[0;32mIn[54], line 22\u001b[0m, in \u001b[0;36mscan_fun\u001b[0;34m(x, y)\u001b[0m\n\u001b[1;32m     20\u001b[0m init_curr \u001b[39m=\u001b[39m \u001b[39m10.\u001b[39m\n\u001b[1;32m     21\u001b[0m init_i \u001b[39m=\u001b[39m \u001b[39m20\u001b[39m\n\u001b[0;32m---> 22\u001b[0m (res, this_is_val), this_is_none \u001b[39m=\u001b[39m lax\u001b[39m.\u001b[39;49mscan(body, (init_curr, init_i), x) \n\u001b[1;32m     23\u001b[0m \u001b[39m# f = body, \u001b[39;00m\n\u001b[1;32m     24\u001b[0m \u001b[39m# init = (0., 0), i.e. carry = 0., x = 0?, \u001b[39;00m\n\u001b[1;32m     25\u001b[0m \u001b[39m# xs = None, length=None, reverse=False, unroll=1\u001b[39;00m\n\u001b[1;32m     27\u001b[0m \u001b[39mreturn\u001b[39;00m (res, this_is_val), this_is_none\n",
      "    \u001b[0;31m[... skipping hidden 9 frame]\u001b[0m\n",
      "Cell \u001b[0;32mIn[54], line 15\u001b[0m, in \u001b[0;36mscan_fun.<locals>.body\u001b[0;34m(carry, x)\u001b[0m\n\u001b[1;32m     13\u001b[0m \u001b[39mprint\u001b[39m(\u001b[39m'\u001b[39m\u001b[39mi\u001b[39m\u001b[39m'\u001b[39m, i)\n\u001b[1;32m     14\u001b[0m \u001b[39mprint\u001b[39m(\u001b[39m'\u001b[39m\u001b[39mi+1\u001b[39m\u001b[39m'\u001b[39m, i\u001b[39m+\u001b[39m\u001b[39m1\u001b[39m)\n\u001b[0;32m---> 15\u001b[0m \u001b[39mprint\u001b[39m(\u001b[39m'\u001b[39m\u001b[39mx[i]\u001b[39m\u001b[39m'\u001b[39m, x[i])\n\u001b[1;32m     16\u001b[0m \u001b[39mprint\u001b[39m(\u001b[39m'\u001b[39m\u001b[39mcurr + x[i]\u001b[39m\u001b[39m'\u001b[39m, curr \u001b[39m+\u001b[39m x[i])\n\u001b[1;32m     18\u001b[0m \u001b[39mreturn\u001b[39;00m (curr \u001b[39m+\u001b[39m x[i], i\u001b[39m+\u001b[39m\u001b[39m1\u001b[39m), \u001b[39mNone\u001b[39;00m\n",
      "    \u001b[0;31m[... skipping hidden 1 frame]\u001b[0m\n",
      "File \u001b[0;32m~/Documents/_code/_research lorenz code/lorenzGNN/lorenzvenv/lib/python3.9/site-packages/jax/_src/numpy/lax_numpy.py:3908\u001b[0m, in \u001b[0;36m_rewriting_take\u001b[0;34m(arr, idx, indices_are_sorted, unique_indices, mode, fill_value)\u001b[0m\n\u001b[1;32m   3905\u001b[0m       \u001b[39mreturn\u001b[39;00m lax\u001b[39m.\u001b[39mdynamic_index_in_dim(arr, idx, keepdims\u001b[39m=\u001b[39m\u001b[39mFalse\u001b[39;00m)\n\u001b[1;32m   3907\u001b[0m treedef, static_idx, dynamic_idx \u001b[39m=\u001b[39m _split_index_for_jit(idx, arr\u001b[39m.\u001b[39mshape)\n\u001b[0;32m-> 3908\u001b[0m \u001b[39mreturn\u001b[39;00m _gather(arr, treedef, static_idx, dynamic_idx, indices_are_sorted,\n\u001b[1;32m   3909\u001b[0m                unique_indices, mode, fill_value)\n",
      "File \u001b[0;32m~/Documents/_code/_research lorenz code/lorenzGNN/lorenzvenv/lib/python3.9/site-packages/jax/_src/numpy/lax_numpy.py:3917\u001b[0m, in \u001b[0;36m_gather\u001b[0;34m(arr, treedef, static_idx, dynamic_idx, indices_are_sorted, unique_indices, mode, fill_value)\u001b[0m\n\u001b[1;32m   3914\u001b[0m \u001b[39mdef\u001b[39;00m \u001b[39m_gather\u001b[39m(arr, treedef, static_idx, dynamic_idx, indices_are_sorted,\n\u001b[1;32m   3915\u001b[0m             unique_indices, mode, fill_value):\n\u001b[1;32m   3916\u001b[0m   idx \u001b[39m=\u001b[39m _merge_static_and_dynamic_indices(treedef, static_idx, dynamic_idx)\n\u001b[0;32m-> 3917\u001b[0m   indexer \u001b[39m=\u001b[39m _index_to_gather(shape(arr), idx)  \u001b[39m# shared with _scatter_update\u001b[39;00m\n\u001b[1;32m   3918\u001b[0m   y \u001b[39m=\u001b[39m arr\n\u001b[1;32m   3920\u001b[0m   \u001b[39mif\u001b[39;00m fill_value \u001b[39mis\u001b[39;00m \u001b[39mnot\u001b[39;00m \u001b[39mNone\u001b[39;00m:\n",
      "File \u001b[0;32m~/Documents/_code/_research lorenz code/lorenzGNN/lorenzvenv/lib/python3.9/site-packages/jax/_src/numpy/lax_numpy.py:4018\u001b[0m, in \u001b[0;36m_index_to_gather\u001b[0;34m(x_shape, idx, normalize_indices)\u001b[0m\n\u001b[1;32m   4015\u001b[0m \u001b[39mdef\u001b[39;00m \u001b[39m_index_to_gather\u001b[39m(x_shape: Sequence[\u001b[39mint\u001b[39m], idx: Sequence[Any],\n\u001b[1;32m   4016\u001b[0m                      normalize_indices: \u001b[39mbool\u001b[39m \u001b[39m=\u001b[39m \u001b[39mTrue\u001b[39;00m) \u001b[39m-\u001b[39m\u001b[39m>\u001b[39m _Indexer:\n\u001b[1;32m   4017\u001b[0m   \u001b[39m# Remove ellipses and add trailing slice(None)s.\u001b[39;00m\n\u001b[0;32m-> 4018\u001b[0m   idx \u001b[39m=\u001b[39m _canonicalize_tuple_index(\u001b[39mlen\u001b[39;49m(x_shape), idx)\n\u001b[1;32m   4020\u001b[0m   \u001b[39m# Check for advanced indexing:\u001b[39;00m\n\u001b[1;32m   4021\u001b[0m   \u001b[39m# https://docs.scipy.org/doc/numpy/reference/arrays.indexing.html#advanced-indexing\u001b[39;00m\n\u001b[1;32m   4022\u001b[0m \n\u001b[1;32m   4023\u001b[0m   \u001b[39m# Do the advanced indexing axes appear contiguously? If not, NumPy semantics\u001b[39;00m\n\u001b[1;32m   4024\u001b[0m   \u001b[39m# move the advanced axes to the front.\u001b[39;00m\n\u001b[1;32m   4025\u001b[0m   advanced_axes_are_contiguous \u001b[39m=\u001b[39m \u001b[39mFalse\u001b[39;00m\n",
      "File \u001b[0;32m~/Documents/_code/_research lorenz code/lorenzGNN/lorenzvenv/lib/python3.9/site-packages/jax/_src/numpy/lax_numpy.py:4351\u001b[0m, in \u001b[0;36m_canonicalize_tuple_index\u001b[0;34m(arr_ndim, idx, array_name)\u001b[0m\n\u001b[1;32m   4349\u001b[0m len_without_none \u001b[39m=\u001b[39m _sum(\u001b[39m1\u001b[39m \u001b[39mfor\u001b[39;00m e \u001b[39min\u001b[39;00m idx \u001b[39mif\u001b[39;00m e \u001b[39mis\u001b[39;00m \u001b[39mnot\u001b[39;00m \u001b[39mNone\u001b[39;00m \u001b[39mand\u001b[39;00m e \u001b[39mis\u001b[39;00m \u001b[39mnot\u001b[39;00m \u001b[39mEllipsis\u001b[39m)\n\u001b[1;32m   4350\u001b[0m \u001b[39mif\u001b[39;00m len_without_none \u001b[39m>\u001b[39m arr_ndim:\n\u001b[0;32m-> 4351\u001b[0m   \u001b[39mraise\u001b[39;00m \u001b[39mIndexError\u001b[39;00m(\n\u001b[1;32m   4352\u001b[0m       \u001b[39mf\u001b[39m\u001b[39m\"\u001b[39m\u001b[39mToo many indices for \u001b[39m\u001b[39m{\u001b[39;00marray_name\u001b[39m}\u001b[39;00m\u001b[39m: \u001b[39m\u001b[39m{\u001b[39;00mlen_without_none\u001b[39m}\u001b[39;00m\u001b[39m \u001b[39m\u001b[39m\"\u001b[39m\n\u001b[1;32m   4353\u001b[0m       \u001b[39mf\u001b[39m\u001b[39m\"\u001b[39m\u001b[39mnon-None/Ellipsis indices for dim \u001b[39m\u001b[39m{\u001b[39;00marr_ndim\u001b[39m}\u001b[39;00m\u001b[39m.\u001b[39m\u001b[39m\"\u001b[39m)\n\u001b[1;32m   4354\u001b[0m ellipses \u001b[39m=\u001b[39m (i \u001b[39mfor\u001b[39;00m i, elt \u001b[39min\u001b[39;00m \u001b[39menumerate\u001b[39m(idx) \u001b[39mif\u001b[39;00m elt \u001b[39mis\u001b[39;00m \u001b[39mEllipsis\u001b[39m)\n\u001b[1;32m   4355\u001b[0m ellipsis_index \u001b[39m=\u001b[39m \u001b[39mnext\u001b[39m(ellipses, \u001b[39mNone\u001b[39;00m)\n",
      "\u001b[0;31mIndexError\u001b[0m: Too many indices for array: 1 non-None/Ellipsis indices for dim 0."
     ]
    }
   ],
   "source": [
    "scan_fun(x, y)"
   ]
  },
  {
   "cell_type": "code",
   "execution_count": 38,
   "metadata": {},
   "outputs": [
    {
     "ename": "AssertionError",
     "evalue": "",
     "output_type": "error",
     "traceback": [
      "\u001b[0;31m---------------------------------------------------------------------------\u001b[0m",
      "\u001b[0;31mAssertionError\u001b[0m                            Traceback (most recent call last)",
      "Cell \u001b[0;32mIn[38], line 1\u001b[0m\n\u001b[0;32m----> 1\u001b[0m \u001b[39massert\u001b[39;00m loop_fun(x, y) \u001b[39m==\u001b[39m scan_fun(x, y)\n\u001b[1;32m      3\u001b[0m check_grads(scan_fun, (x, y), \u001b[39m1\u001b[39m, eps\u001b[39m=\u001b[39m\u001b[39m1e-2\u001b[39m)  \u001b[39m# All good\u001b[39;00m\n\u001b[1;32m      4\u001b[0m check_grads(loop_fun, (x, y), \u001b[39m1\u001b[39m, eps\u001b[39m=\u001b[39m\u001b[39m1e-2\u001b[39m)  \u001b[39m# raises ValueError: Reverse-mode differentiation does not work for lax.while_loop or lax.fori_loop. Try using lax.scan instead.\u001b[39;00m\n",
      "\u001b[0;31mAssertionError\u001b[0m: "
     ]
    }
   ],
   "source": [
    "\n",
    "assert loop_fun(x, y) == scan_fun(x, y)\n",
    "\n",
    "check_grads(scan_fun, (x, y), 1, eps=1e-2)  # All good\n",
    "check_grads(loop_fun, (x, y), 1, eps=1e-2)  # raises ValueError: Reverse-mode differentiation does not work for lax.while_loop or lax.fori_loop. Try using lax.scan instead.\n"
   ]
  },
  {
   "cell_type": "code",
   "execution_count": null,
   "metadata": {},
   "outputs": [],
   "source": []
  }
 ],
 "metadata": {
  "kernelspec": {
   "display_name": "lorenzvenv",
   "language": "python",
   "name": "python3"
  },
  "language_info": {
   "codemirror_mode": {
    "name": "ipython",
    "version": 3
   },
   "file_extension": ".py",
   "mimetype": "text/x-python",
   "name": "python",
   "nbconvert_exporter": "python",
   "pygments_lexer": "ipython3",
   "version": "3.9.16"
  },
  "orig_nbformat": 4
 },
 "nbformat": 4,
 "nbformat_minor": 2
}
